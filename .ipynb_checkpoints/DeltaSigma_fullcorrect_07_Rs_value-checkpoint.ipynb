{
 "cells": [
  {
   "cell_type": "code",
   "execution_count": 1,
   "id": "a48e5622",
   "metadata": {
    "scrolled": true
   },
   "outputs": [
    {
     "name": "stdout",
     "output_type": "stream",
     "text": [
      "reading DEFAULTS from default_params.yml\n",
      "updating params from: /home/moon/vargatn/DES/PROJECTS/xpipe/settings/params.yml\n",
      "updating params from: /home/moon/vargatn/DES/PROJECTS/xpipe/settings/params_y3rm_meta.yml\n",
      "updating params from: /home/moon/vargatn/DES/PROJECTS/xpipe/settings/params_y3lwb-v02_meta.yml\n",
      "\n",
      "***********************\n",
      "\n",
      "running in full mode\n",
      "\n",
      "***********************\n",
      "\n"
     ]
    }
   ],
   "source": [
    "import pandas as pd\n",
    "import numpy as np\n",
    "import matplotlib.pyplot as plt\n",
    "\n",
    "import matplotlib as mpl\n",
    "%matplotlib inline\n",
    "%config InlineBackend.figure_format = 'svg'\n",
    "\n",
    "mpl.rc('font',**{'family':'serif','serif':['serif']})\n",
    "mpl.rc('text', usetex=True)\n",
    "import fitsio as fio\n",
    "\n",
    "import h5py\n",
    "\n",
    "import copy\n",
    "\n",
    "import xpipe.tools.catalogs as catalogs\n",
    "import xpipe.paths as paths\n",
    "import xpipe.xhandle.parbins as parbins\n",
    "import xpipe.xhandle.xwrap as xwrap\n",
    "import xpipe.tools.selector as selector\n",
    "import xpipe.xhandle.shearops as shearops\n",
    "import xpipe.xhandle.pzboost as pzboost\n",
    "import xpipe.tools.y3_sompz as sompz\n",
    "import xpipe.tools.mass as mass\n",
    "import xpipe.tools.visual as visual\n",
    "\n",
    "\n",
    "from importlib import reload\n",
    "import pickle\n",
    "\n",
    "\n",
    "import astropy.cosmology as cosmology\n",
    "# this is just the default cosmology\n",
    "cosmo = cosmology.FlatLambdaCDM(Om0=0.3, H0=70)\n",
    "\n",
    "# we make sure the correct config file is loaded here, it will let us automatically now what type of files \n",
    "# were / will be produced, and where they will be placed\n",
    "paths.update_params(\"/home/moon/vargatn/DES/PROJECTS/xpipe/settings/params_y3lwb-v02_meta.yml\")"
   ]
  },
  {
   "cell_type": "markdown",
   "id": "9037bf0d",
   "metadata": {},
   "source": [
    "# Testing output"
   ]
  },
  {
   "cell_type": "code",
   "execution_count": 2,
   "id": "26f964fe",
   "metadata": {},
   "outputs": [],
   "source": [
    "main_file_path = \"/e/ocean1/users/vargatn/DESY3/Y3_mastercat_03_31_20.h5\"\n",
    "src = sompz.sompz_reader(main_file_path)\n",
    "src.build_lookup()"
   ]
  },
  {
   "cell_type": "code",
   "execution_count": 9,
   "id": "5425f996",
   "metadata": {},
   "outputs": [
    {
     "name": "stdout",
     "output_type": "stream",
     "text": [
      "0\n",
      "1\n",
      "2\n",
      "3\n"
     ]
    }
   ],
   "source": [
    "Rshear = []\n",
    "Rsel = []\n",
    "for sbin in np.arange(4):\n",
    "#     fname = \"/e/ocean1/users/vargatn/DES/DES_Y3A2_cluster/data/shearcat/y3_mcal_sompz_v4_bin\"+str(sbin + 1)+\".h5\"\n",
    "#     tab = pd.read_hdf(fname, key=\"data\")\n",
    "#     _Rshear = np.average(0.5 * (tab[\"R11\"] + tab[\"R22\"]), weights=tab[\"weight\"])\n",
    "#     Rshear.append(_Rshear)\n",
    "    print(sbin)\n",
    "    fnames = [\n",
    "        \"/e/ocean1/users/vargatn/DES/DES_Y3A2_cluster/data/shearcat/y3_mcal_sompz_v4_unblind_bin\"+str(sbin + 1)+\"_1p.h5\",\n",
    "        \"/e/ocean1/users/vargatn/DES/DES_Y3A2_cluster/data/shearcat/y3_mcal_sompz_v4_unblind_bin\"+str(sbin + 1)+\"_1m.h5\",\n",
    "        \"/e/ocean1/users/vargatn/DES/DES_Y3A2_cluster/data/shearcat/y3_mcal_sompz_v4_unblind_bin\"+str(sbin + 1)+\"_2p.h5\",\n",
    "        \"/e/ocean1/users/vargatn/DES/DES_Y3A2_cluster/data/shearcat/y3_mcal_sompz_v4_unblind_bin\"+str(sbin + 1)+\"_2m.h5\",\n",
    "    ]    \n",
    "    tables = [pd.read_hdf(fname, key=\"data\") for fname in fnames]  \n",
    "    _R11 = (np.average(tables[0][\"e1\"], weights=tables[0][\"weight\"]) -\\\n",
    "            np.average(tables[1][\"e1\"], weights=tables[1][\"weight\"])) / 0.02\n",
    "    _R22 = (np.average(tables[2][\"e2\"], weights=tables[2][\"weight\"]) -\\\n",
    "            np.average(tables[3][\"e2\"], weights=tables[3][\"weight\"])) / 0.02\n",
    "    \n",
    "    _Rsel = 0.5 * (_R11 + _R22)\n",
    "    Rsel.append(_Rsel)"
   ]
  },
  {
   "cell_type": "code",
   "execution_count": 12,
   "id": "278b8256",
   "metadata": {},
   "outputs": [],
   "source": [
    "oname = \"/e/ocean1/users/vargatn/DES/DES_Y3A2_cluster/data/lenscat/LWB_DESY3_ALL.fits\"\n",
    "allgal = fio.read(oname)"
   ]
  },
  {
   "cell_type": "code",
   "execution_count": 11,
   "id": "ab426b15",
   "metadata": {},
   "outputs": [],
   "source": [
    "oname = \"/e/ocean1/users/vargatn/DES/DES_Y3A2_cluster/data/lenscat/LWB_DESY3_ALL_rand.fits\"\n",
    "allrand = fio.read(oname)"
   ]
  },
  {
   "cell_type": "code",
   "execution_count": 13,
   "id": "afc7e3ca",
   "metadata": {},
   "outputs": [],
   "source": [
    "# now extract the len weights, these are not used yet we can pass them on the post-processing stage\n",
    "weights = pd.DataFrame()\n",
    "weights[\"ww\"] = allgal[\"WSYS\"]\n",
    "weights[\"ID\"] = allgal[\"ID\"]\n",
    "\n",
    "weights_rand = pd.DataFrame()\n",
    "weights_rand[\"ww\"] = allrand[\"WEIGHT\"]\n",
    "weights_rand[\"ID\"] = allrand[\"ID\"]"
   ]
  },
  {
   "cell_type": "code",
   "execution_count": 14,
   "id": "05aca839",
   "metadata": {},
   "outputs": [],
   "source": [
    "flist, flist_jk, rlist, rlist_jk = parbins.get_file_lists(paths.params, paths.dirpaths)"
   ]
  },
  {
   "cell_type": "code",
   "execution_count": null,
   "id": "a626b020",
   "metadata": {},
   "outputs": [],
   "source": []
  },
  {
   "cell_type": "code",
   "execution_count": 16,
   "id": "7d1ba1b3",
   "metadata": {},
   "outputs": [
    {
     "name": "stdout",
     "output_type": "stream",
     "text": [
      "0\n"
     ]
    },
    {
     "ename": "NameError",
     "evalue": "name 'Rs' is not defined",
     "output_type": "error",
     "traceback": [
      "\u001b[0;31m---------------------------------------------------------------------------\u001b[0m",
      "\u001b[0;31mNameError\u001b[0m                                 Traceback (most recent call last)",
      "\u001b[0;32m<ipython-input-16-184d9571d902>\u001b[0m in \u001b[0;36m<module>\u001b[0;34m\u001b[0m\n\u001b[1;32m      8\u001b[0m \u001b[0;34m\u001b[0m\u001b[0m\n\u001b[1;32m      9\u001b[0m     \u001b[0mACP\u001b[0m \u001b[0;34m=\u001b[0m \u001b[0mshearops\u001b[0m\u001b[0;34m.\u001b[0m\u001b[0mAutoCalibrateProfile\u001b[0m\u001b[0;34m(\u001b[0m\u001b[0;34m[\u001b[0m\u001b[0mfname\u001b[0m\u001b[0;34m,\u001b[0m\u001b[0;34m]\u001b[0m\u001b[0;34m,\u001b[0m \u001b[0mflist_jk\u001b[0m\u001b[0;34m[\u001b[0m\u001b[0mi\u001b[0m\u001b[0;34m]\u001b[0m\u001b[0;34m,\u001b[0m \u001b[0msrc\u001b[0m\u001b[0;34m,\u001b[0m \u001b[0mxlims\u001b[0m\u001b[0;34m=\u001b[0m\u001b[0;34m(\u001b[0m\u001b[0;36m0.01\u001b[0m\u001b[0;34m,\u001b[0m \u001b[0;36m100\u001b[0m\u001b[0;34m)\u001b[0m\u001b[0;34m,\u001b[0m \u001b[0msbins\u001b[0m\u001b[0;34m=\u001b[0m\u001b[0moptsbins2\u001b[0m\u001b[0;34m[\u001b[0m\u001b[0mi\u001b[0m\u001b[0;34m]\u001b[0m\u001b[0;34m)\u001b[0m\u001b[0;34m\u001b[0m\u001b[0;34m\u001b[0m\u001b[0m\n\u001b[0;32m---> 10\u001b[0;31m     \u001b[0mACP\u001b[0m\u001b[0;34m.\u001b[0m\u001b[0mget_profiles\u001b[0m\u001b[0;34m(\u001b[0m\u001b[0mismeta\u001b[0m\u001b[0;34m=\u001b[0m\u001b[0;32mFalse\u001b[0m\u001b[0;34m,\u001b[0m \u001b[0mweights\u001b[0m\u001b[0;34m=\u001b[0m\u001b[0mweights\u001b[0m\u001b[0;34m,\u001b[0m \u001b[0mid_key\u001b[0m\u001b[0;34m=\u001b[0m\u001b[0;34m\"ID\"\u001b[0m\u001b[0;34m,\u001b[0m \u001b[0mz_key\u001b[0m\u001b[0;34m=\u001b[0m\u001b[0;34m\"Z\"\u001b[0m\u001b[0;34m,\u001b[0m \u001b[0mmfactor_sbins\u001b[0m\u001b[0;34m=\u001b[0m\u001b[0mmfac_opt2\u001b[0m\u001b[0;34m,\u001b[0m \u001b[0mRs_sbins\u001b[0m\u001b[0;34m=\u001b[0m\u001b[0mRs\u001b[0m\u001b[0;34m)\u001b[0m \u001b[0;31m#\u001b[0m\u001b[0;34m\u001b[0m\u001b[0;34m\u001b[0m\u001b[0m\n\u001b[0m\u001b[1;32m     11\u001b[0m     \u001b[0mACP_optms2\u001b[0m\u001b[0;34m.\u001b[0m\u001b[0mappend\u001b[0m\u001b[0;34m(\u001b[0m\u001b[0mACP\u001b[0m\u001b[0;34m)\u001b[0m\u001b[0;34m\u001b[0m\u001b[0;34m\u001b[0m\u001b[0m\n",
      "\u001b[0;31mNameError\u001b[0m: name 'Rs' is not defined"
     ]
    }
   ],
   "source": [
    "ms_opt2=[np.array([-0.024,-0.037]),np.array([-0.024,-0.037]),np.array([-0.037,]),np.array([-0.037,])]\n",
    "optsbins2=[(2,3),(2,3),(3,),(3,)]\n",
    "\n",
    "ACP_optms2 = []\n",
    "for i, fname in enumerate(flist):\n",
    "    print(i)\n",
    "    mfac_opt2=1/(1+ms_opt2[i])\n",
    "\n",
    "    ACP = shearops.AutoCalibrateProfile([fname,], flist_jk[i], src, xlims=(0.01, 100), sbins=optsbins2[i])\n",
    "    ACP.get_profiles(ismeta=False, weights=weights, id_key=\"ID\", z_key=\"Z\", mfactor_sbins=mfac_opt2, Rs_sbins=Rs) #\n",
    "    ACP_optms2.append(ACP)    "
   ]
  },
  {
   "cell_type": "code",
   "execution_count": null,
   "id": "adb51179",
   "metadata": {},
   "outputs": [],
   "source": []
  }
 ],
 "metadata": {
  "kernelspec": {
   "display_name": "Python 3",
   "language": "python",
   "name": "python3"
  },
  "language_info": {
   "codemirror_mode": {
    "name": "ipython",
    "version": 3
   },
   "file_extension": ".py",
   "mimetype": "text/x-python",
   "name": "python",
   "nbconvert_exporter": "python",
   "pygments_lexer": "ipython3",
   "version": "3.8.8"
  },
  "toc": {
   "base_numbering": 1,
   "nav_menu": {},
   "number_sections": true,
   "sideBar": true,
   "skip_h1_title": false,
   "title_cell": "Table of Contents",
   "title_sidebar": "Contents",
   "toc_cell": false,
   "toc_position": {},
   "toc_section_display": true,
   "toc_window_display": false
  },
  "widgets": {
   "state": {},
   "version": "1.0.0"
  }
 },
 "nbformat": 4,
 "nbformat_minor": 5
}
