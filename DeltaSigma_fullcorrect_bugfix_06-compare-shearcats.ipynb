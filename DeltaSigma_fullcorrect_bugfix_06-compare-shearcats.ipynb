{
 "cells": [
  {
   "cell_type": "code",
   "execution_count": 21,
   "metadata": {
    "scrolled": true
   },
   "outputs": [
    {
     "name": "stdout",
     "output_type": "stream",
     "text": [
      "updating params from: /home/moon/vargatn/DES/PROJECTS/xpipe/settings/params_y3lwb-v02_meta.yml\n",
      "\n",
      "***********************\n",
      "\n",
      "running in full mode\n",
      "\n",
      "***********************\n",
      "\n"
     ]
    }
   ],
   "source": [
    "import pandas as pd\n",
    "import numpy as np\n",
    "import matplotlib.pyplot as plt\n",
    "\n",
    "import matplotlib as mpl\n",
    "%matplotlib inline\n",
    "%config InlineBackend.figure_format = 'svg'\n",
    "\n",
    "mpl.rc('font',**{'family':'serif','serif':['serif']})\n",
    "mpl.rc('text', usetex=True)\n",
    "import fitsio as fio\n",
    "\n",
    "import h5py\n",
    "\n",
    "import copy\n",
    "\n",
    "import xpipe.tools.catalogs as catalogs\n",
    "import xpipe.paths as paths\n",
    "import xpipe.xhandle.parbins as parbins\n",
    "import xpipe.xhandle.xwrap as xwrap\n",
    "import xpipe.tools.selector as selector\n",
    "import xpipe.xhandle.shearops as shearops\n",
    "import xpipe.xhandle.pzboost as pzboost\n",
    "import xpipe.tools.y3_sompz as sompz\n",
    "import xpipe.tools.mass as mass\n",
    "import xpipe.tools.visual as visual\n",
    "\n",
    "\n",
    "from importlib import reload\n",
    "import pickle\n",
    "\n",
    "\n",
    "import astropy.cosmology as cosmology\n",
    "# this is just the default cosmology\n",
    "cosmo = cosmology.FlatLambdaCDM(Om0=0.3, H0=70)\n",
    "\n",
    "# we make sure the correct config file is loaded here, it will let us automatically now what type of files \n",
    "# were / will be produced, and where they will be placed\n",
    "paths.update_params(\"/home/moon/vargatn/DES/PROJECTS/xpipe/settings/params_y3lwb-v02_meta.yml\")"
   ]
  },
  {
   "cell_type": "markdown",
   "metadata": {},
   "source": [
    "# Testing output"
   ]
  },
  {
   "cell_type": "code",
   "execution_count": 22,
   "metadata": {},
   "outputs": [],
   "source": [
    "main_file_path = \"/e/ocean1/users/vargatn/DESY3/Y3_mastercat_03_31_20.h5\"\n",
    "src = sompz.sompz_reader(main_file_path)\n",
    "src.build_lookup()"
   ]
  },
  {
   "cell_type": "code",
   "execution_count": 23,
   "metadata": {},
   "outputs": [],
   "source": [
    "flist, flist_jk, rlist, rlist_jk = parbins.get_file_lists(paths.params, paths.dirpaths)"
   ]
  },
  {
   "cell_type": "markdown",
   "metadata": {},
   "source": [
    "# Compare with some old measurement"
   ]
  },
  {
   "cell_type": "code",
   "execution_count": 24,
   "metadata": {},
   "outputs": [
    {
     "data": {
      "text/plain": [
       "<module 'xpipe.xhandle.shearops' from '/home/moon/vargatn/DES/PROJECTS/xpipe/xpipe/xhandle/shearops.py'>"
      ]
     },
     "execution_count": 24,
     "metadata": {},
     "output_type": "execute_result"
    }
   ],
   "source": [
    "reload(shearops)"
   ]
  },
  {
   "cell_type": "code",
   "execution_count": 25,
   "metadata": {},
   "outputs": [
    {
     "name": "stdout",
     "output_type": "stream",
     "text": [
      "loading source bin 2\n",
      "loading source bin 3\n",
      "/e/ocean1/users/vargatn/DES/DES_Y3A2_cluster/data/xshear_in/lwb-y3-lowz+cmass_v08-test/lwb-y3-lowz+cmass_v08-test_lens_qbin-0.fits\n",
      "loading source bin 2\n",
      "loading source bin 3\n",
      "/e/ocean1/users/vargatn/DES/DES_Y3A2_cluster/data/xshear_in/lwb-y3-lowz+cmass_v08-test/lwb-y3-lowz+cmass_v08-test_lens_qbin-1.fits\n",
      "loading source bin 3\n",
      "/e/ocean1/users/vargatn/DES/DES_Y3A2_cluster/data/xshear_in/lwb-y3-lowz+cmass_v08-test/lwb-y3-lowz+cmass_v08-test_lens_qbin-2.fits\n",
      "loading source bin 3\n",
      "/e/ocean1/users/vargatn/DES/DES_Y3A2_cluster/data/xshear_in/lwb-y3-lowz+cmass_v08-test/lwb-y3-lowz+cmass_v08-test_lens_qbin-3.fits\n"
     ]
    }
   ],
   "source": [
    "ms_opt2=[np.array([-0.024,-0.037]),np.array([-0.024,-0.037]),np.array([-0.037,]),np.array([-0.037,])]\n",
    "optsbins2=[(2,3),(2,3),(3,),(3,)]\n",
    "ACP_old = []\n",
    "ACP_new = []\n",
    "for i, fname in enumerate(flist):\n",
    "    mfac_opt2=1/(1+ms_opt2[i])\n",
    "    \n",
    "    ACP = shearops.AutoCalibrateProfile([flist[i],], flist_jk[i], src, xlims=(0.01, 100), sbins=optsbins2[i])\n",
    "    ACP.get_profiles(ismeta=False, id_key=\"ID\", z_key=\"Z\", mfactor_sbins=mfac_opt2) #\n",
    "    ACP_old.append(ACP)    \n",
    "    "
   ]
  },
  {
   "cell_type": "code",
   "execution_count": 26,
   "metadata": {},
   "outputs": [],
   "source": [
    "def write_profile(prof, path):\n",
    "    \"\"\"saves DeltaSigma and covariance in text format\"\"\"\n",
    "\n",
    "    # Saving profile\n",
    "    profheader = \"R [Mpc]\\tDeltaSigma_t [M_sun / pc^2]\\tDeltaSigma_t_err [M_sun / pc^2]\\tDeltaSigma_x [M_sun / pc^2]\\tDeltaSigma_x_err [M_sun / pc^2]\"\n",
    "    res = np.vstack((prof.rr, prof.dst, prof.dst_err, prof.dsx, prof.dsx_err)).T\n",
    "    fname = path + \"_profile.dat\"\n",
    "    print(\"saving:\", fname)\n",
    "    np.savetxt(fname, res, header=profheader)\n",
    "\n",
    "    # Saving covariance\n",
    "    np.savetxt(path + \"_dst_cov.dat\", prof.dst_cov)\n",
    "    np.savetxt(path + \"_dsx_cov.dat\", prof.dsx_cov)"
   ]
  },
  {
   "cell_type": "code",
   "execution_count": 29,
   "metadata": {},
   "outputs": [
    {
     "name": "stdout",
     "output_type": "stream",
     "text": [
      "saving: LWB_test_OLD_zbin0_profile.dat\n",
      "saving: LWB_test_OLD_zbin1_profile.dat\n",
      "saving: LWB_test_OLD_zbin2_profile.dat\n",
      "saving: LWB_test_OLD_zbin3_profile.dat\n"
     ]
    }
   ],
   "source": [
    "# tmp_profs = copy.deepcopy(profiles)\n",
    "fnames = []\n",
    "for i in np.arange(4):\n",
    "#     for s in np.arange(3):\n",
    "#         scinv = scinvs[i][s+1]\n",
    "#         prof = tmp_profs[i][s]\n",
    "#         prof.multiply(1 / scinv)\n",
    "        fname = \"LWB_test_OLD_zbin\"+str(i)\n",
    "        fnames.append(fname)\n",
    "        write_profile(ACP_old[i].profile, fname)"
   ]
  },
  {
   "cell_type": "code",
   "execution_count": null,
   "metadata": {},
   "outputs": [],
   "source": []
  }
 ],
 "metadata": {
  "kernelspec": {
   "display_name": "Python 3",
   "language": "python",
   "name": "python3"
  },
  "language_info": {
   "codemirror_mode": {
    "name": "ipython",
    "version": 3
   },
   "file_extension": ".py",
   "mimetype": "text/x-python",
   "name": "python",
   "nbconvert_exporter": "python",
   "pygments_lexer": "ipython3",
   "version": "3.6.12"
  },
  "toc": {
   "base_numbering": 1,
   "nav_menu": {},
   "number_sections": true,
   "sideBar": true,
   "skip_h1_title": false,
   "title_cell": "Table of Contents",
   "title_sidebar": "Contents",
   "toc_cell": false,
   "toc_position": {},
   "toc_section_display": true,
   "toc_window_display": false
  },
  "widgets": {
   "state": {},
   "version": "1.0.0"
  }
 },
 "nbformat": 4,
 "nbformat_minor": 5
}
