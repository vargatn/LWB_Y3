{
 "cells": [
  {
   "cell_type": "code",
   "execution_count": 52,
   "id": "4d3cc8bc",
   "metadata": {
    "scrolled": true
   },
   "outputs": [
    {
     "name": "stdout",
     "output_type": "stream",
     "text": [
      "updating params from: /home/moon/vargatn/DES/PROJECTS/xpipe/settings/params_y3lwb-v02_meta.yml\n",
      "\n",
      "***********************\n",
      "\n",
      "running in full mode\n",
      "\n",
      "***********************\n",
      "\n"
     ]
    }
   ],
   "source": [
    "import pandas as pd\n",
    "import numpy as np\n",
    "import matplotlib.pyplot as plt\n",
    "\n",
    "import matplotlib as mpl\n",
    "%matplotlib inline\n",
    "%config InlineBackend.figure_format = 'svg'\n",
    "\n",
    "mpl.rc('font',**{'family':'serif','serif':['serif']})\n",
    "mpl.rc('text', usetex=True)\n",
    "import fitsio as fio\n",
    "\n",
    "import h5py\n",
    "\n",
    "import copy\n",
    "\n",
    "import xpipe.tools.catalogs as catalogs\n",
    "import xpipe.paths as paths\n",
    "import xpipe.xhandle.parbins as parbins\n",
    "import xpipe.xhandle.xwrap as xwrap\n",
    "import xpipe.tools.selector as selector\n",
    "import xpipe.xhandle.shearops as shearops\n",
    "import xpipe.xhandle.pzboost as pzboost\n",
    "import xpipe.tools.y3_sompz as sompz\n",
    "import xpipe.tools.mass as mass\n",
    "import xpipe.tools.visual as visual\n",
    "\n",
    "\n",
    "from importlib import reload\n",
    "import pickle\n",
    "\n",
    "\n",
    "import astropy.cosmology as cosmology\n",
    "# this is just the default cosmology\n",
    "cosmo = cosmology.FlatLambdaCDM(Om0=0.3, H0=70)\n",
    "\n",
    "# we make sure the correct config file is loaded here, it will let us automatically now what type of files \n",
    "# were / will be produced, and where they will be placed\n",
    "paths.update_params(\"/home/moon/vargatn/DES/PROJECTS/xpipe/settings/params_y3lwb-v02_meta.yml\")"
   ]
  },
  {
   "cell_type": "markdown",
   "id": "e8918b17",
   "metadata": {},
   "source": [
    "# Testing output"
   ]
  },
  {
   "cell_type": "code",
   "execution_count": 2,
   "id": "773f73dd",
   "metadata": {},
   "outputs": [
    {
     "data": {
      "text/plain": [
       "<module 'xpipe.tools.y3_sompz' from '/home/moon/vargatn/DES/PROJECTS/xpipe/xpipe/tools/y3_sompz.py'>"
      ]
     },
     "execution_count": 2,
     "metadata": {},
     "output_type": "execute_result"
    }
   ],
   "source": [
    "reload(sompz)"
   ]
  },
  {
   "cell_type": "code",
   "execution_count": 3,
   "id": "fcb00859",
   "metadata": {},
   "outputs": [],
   "source": [
    "main_file_path = \"/e/ocean1/users/vargatn/DESY3/Y3_mastercat_03_31_20.h5\"\n",
    "src = sompz.sompz_reader(main_file_path)\n",
    "src.build_lookup()"
   ]
  },
  {
   "cell_type": "code",
   "execution_count": 4,
   "id": "09ef28d6",
   "metadata": {},
   "outputs": [],
   "source": [
    "flist, flist_jk, rlist, rlist_jk = parbins.get_file_lists(paths.params, paths.dirpaths)"
   ]
  },
  {
   "cell_type": "code",
   "execution_count": 47,
   "id": "d6865047",
   "metadata": {
    "scrolled": true
   },
   "outputs": [
    {
     "data": {
      "text/plain": [
       "<module 'xpipe.xhandle.shearops' from '/home/moon/vargatn/DES/PROJECTS/xpipe/xpipe/xhandle/shearops.py'>"
      ]
     },
     "execution_count": 47,
     "metadata": {},
     "output_type": "execute_result"
    }
   ],
   "source": [
    "reload(shearops)"
   ]
  },
  {
   "cell_type": "code",
   "execution_count": 48,
   "id": "ca7b0e01",
   "metadata": {},
   "outputs": [],
   "source": [
    "i = 3"
   ]
  },
  {
   "cell_type": "code",
   "execution_count": 50,
   "id": "d28c8c38",
   "metadata": {},
   "outputs": [
    {
     "data": {
      "text/plain": [
       "<module 'xpipe.xhandle.shearops' from '/home/moon/vargatn/DES/PROJECTS/xpipe/xpipe/xhandle/shearops.py'>"
      ]
     },
     "execution_count": 50,
     "metadata": {},
     "output_type": "execute_result"
    }
   ],
   "source": [
    "reload(shearops)"
   ]
  },
  {
   "cell_type": "code",
   "execution_count": 51,
   "id": "7b8d15fc",
   "metadata": {},
   "outputs": [
    {
     "name": "stdout",
     "output_type": "stream",
     "text": [
      "loading source bin 3\n",
      "/e/ocean1/users/vargatn/DES/DES_Y3A2_cluster/data/xshear_in/lwb-y3-lowz+cmass_v07/lwb-y3-lowz+cmass_v07_lens_qbin-3.fits\n"
     ]
    }
   ],
   "source": [
    "mfac_opt2=1/(1+ms_opt2[i])\n",
    "\n",
    "ACP = shearops.AutoCalibrateProfile([flist[i],], flist_jk[i], src, xlims=(0.01, 100), sbins=optsbins2[i])\n",
    "ACP.get_profiles(ismeta=False, id_key=\"ID\", z_key=\"Z\", mfactor_sbins=mfac_opt2) #\n",
    "# ACP_new.append(ACP)    "
   ]
  },
  {
   "cell_type": "code",
   "execution_count": null,
   "id": "2a32a205",
   "metadata": {},
   "outputs": [],
   "source": []
  },
  {
   "cell_type": "code",
   "execution_count": null,
   "id": "b037234e",
   "metadata": {},
   "outputs": [],
   "source": []
  },
  {
   "cell_type": "code",
   "execution_count": 31,
   "id": "6d77e650",
   "metadata": {},
   "outputs": [
    {
     "name": "stdout",
     "output_type": "stream",
     "text": [
      "loading source bin 2\n",
      "loading source bin 3\n",
      "/e/ocean1/users/vargatn/DES/DES_Y3A2_cluster/data/xshear_in/lwb-y3-lowz+cmass_v07/lwb-y3-lowz+cmass_v07_lens_qbin-0.fits\n",
      "loading source bin 2\n"
     ]
    },
    {
     "ename": "KeyboardInterrupt",
     "evalue": "",
     "output_type": "error",
     "traceback": [
      "\u001b[0;31m---------------------------------------------------------------------------\u001b[0m",
      "\u001b[0;31mKeyboardInterrupt\u001b[0m                         Traceback (most recent call last)",
      "\u001b[0;32m<ipython-input-31-bb40bf6b3706>\u001b[0m in \u001b[0;36m<module>\u001b[0;34m\u001b[0m\n\u001b[1;32m      7\u001b[0m \u001b[0;34m\u001b[0m\u001b[0m\n\u001b[1;32m      8\u001b[0m     \u001b[0mACP\u001b[0m \u001b[0;34m=\u001b[0m \u001b[0mshearops\u001b[0m\u001b[0;34m.\u001b[0m\u001b[0mAutoCalibrateProfile\u001b[0m\u001b[0;34m(\u001b[0m\u001b[0;34m[\u001b[0m\u001b[0mflist\u001b[0m\u001b[0;34m[\u001b[0m\u001b[0mi\u001b[0m\u001b[0;34m]\u001b[0m\u001b[0;34m,\u001b[0m\u001b[0;34m]\u001b[0m\u001b[0;34m,\u001b[0m \u001b[0mflist_jk\u001b[0m\u001b[0;34m[\u001b[0m\u001b[0mi\u001b[0m\u001b[0;34m]\u001b[0m\u001b[0;34m,\u001b[0m \u001b[0msrc\u001b[0m\u001b[0;34m,\u001b[0m \u001b[0mxlims\u001b[0m\u001b[0;34m=\u001b[0m\u001b[0;34m(\u001b[0m\u001b[0;36m0.01\u001b[0m\u001b[0;34m,\u001b[0m \u001b[0;36m100\u001b[0m\u001b[0;34m)\u001b[0m\u001b[0;34m,\u001b[0m \u001b[0msbins\u001b[0m\u001b[0;34m=\u001b[0m\u001b[0moptsbins2\u001b[0m\u001b[0;34m[\u001b[0m\u001b[0mi\u001b[0m\u001b[0;34m]\u001b[0m\u001b[0;34m)\u001b[0m\u001b[0;34m\u001b[0m\u001b[0;34m\u001b[0m\u001b[0m\n\u001b[0;32m----> 9\u001b[0;31m     \u001b[0mACP\u001b[0m\u001b[0;34m.\u001b[0m\u001b[0mget_profiles\u001b[0m\u001b[0;34m(\u001b[0m\u001b[0mismeta\u001b[0m\u001b[0;34m=\u001b[0m\u001b[0;32mFalse\u001b[0m\u001b[0;34m,\u001b[0m \u001b[0mid_key\u001b[0m\u001b[0;34m=\u001b[0m\u001b[0;34m\"ID\"\u001b[0m\u001b[0;34m,\u001b[0m \u001b[0mz_key\u001b[0m\u001b[0;34m=\u001b[0m\u001b[0;34m\"Z\"\u001b[0m\u001b[0;34m,\u001b[0m \u001b[0mmfactor_sbins\u001b[0m\u001b[0;34m=\u001b[0m\u001b[0mmfac_opt2\u001b[0m\u001b[0;34m)\u001b[0m \u001b[0;31m#\u001b[0m\u001b[0;34m\u001b[0m\u001b[0;34m\u001b[0m\u001b[0m\n\u001b[0m\u001b[1;32m     10\u001b[0m     \u001b[0mACP_new\u001b[0m\u001b[0;34m.\u001b[0m\u001b[0mappend\u001b[0m\u001b[0;34m(\u001b[0m\u001b[0mACP\u001b[0m\u001b[0;34m)\u001b[0m\u001b[0;34m\u001b[0m\u001b[0;34m\u001b[0m\u001b[0m\n",
      "\u001b[0;32m~/DES/PROJECTS/xpipe/xpipe/xhandle/shearops.py\u001b[0m in \u001b[0;36mget_profiles\u001b[0;34m(self, reload, scinvs, mfactor_sbins, Rs_sbins, weights, **kwargs)\u001b[0m\n\u001b[1;32m   1020\u001b[0m \u001b[0;34m\u001b[0m\u001b[0m\n\u001b[1;32m   1021\u001b[0m         \u001b[0;32mif\u001b[0m \u001b[0mreload\u001b[0m\u001b[0;34m:\u001b[0m\u001b[0;34m\u001b[0m\u001b[0;34m\u001b[0m\u001b[0m\n\u001b[0;32m-> 1022\u001b[0;31m             \u001b[0mself\u001b[0m\u001b[0;34m.\u001b[0m\u001b[0m_load_profiles\u001b[0m\u001b[0;34m(\u001b[0m\u001b[0mRs_sbins\u001b[0m\u001b[0;34m=\u001b[0m\u001b[0mRs_sbins\u001b[0m\u001b[0;34m,\u001b[0m \u001b[0;34m**\u001b[0m\u001b[0mkwargs\u001b[0m\u001b[0;34m)\u001b[0m\u001b[0;34m\u001b[0m\u001b[0;34m\u001b[0m\u001b[0m\n\u001b[0m\u001b[1;32m   1023\u001b[0m \u001b[0;34m\u001b[0m\u001b[0m\n\u001b[1;32m   1024\u001b[0m         \u001b[0mself\u001b[0m\u001b[0;34m.\u001b[0m\u001b[0mscinvs\u001b[0m \u001b[0;34m=\u001b[0m \u001b[0mscinvs\u001b[0m\u001b[0;34m\u001b[0m\u001b[0;34m\u001b[0m\u001b[0m\n",
      "\u001b[0;32m~/DES/PROJECTS/xpipe/xpipe/xhandle/shearops.py\u001b[0m in \u001b[0;36m_load_profiles\u001b[0;34m(self, ismeta, Rs_sbins, shear, weight_key, weight, id_key, **kwargs)\u001b[0m\n\u001b[1;32m    952\u001b[0m                 \u001b[0mRs\u001b[0m \u001b[0;34m=\u001b[0m \u001b[0mRs_sbins\u001b[0m\u001b[0;34m[\u001b[0m\u001b[0mi\u001b[0m\u001b[0;34m]\u001b[0m\u001b[0;34m\u001b[0m\u001b[0;34m\u001b[0m\u001b[0m\n\u001b[1;32m    953\u001b[0m \u001b[0;34m\u001b[0m\u001b[0m\n\u001b[0;32m--> 954\u001b[0;31m             clust = process_profile(clust_files, ismeta=ismeta, Rs=Rs,\n\u001b[0m\u001b[1;32m    955\u001b[0m                                              \u001b[0mweights\u001b[0m\u001b[0;34m=\u001b[0m\u001b[0mself\u001b[0m\u001b[0;34m.\u001b[0m\u001b[0mweights\u001b[0m\u001b[0;34m,\u001b[0m \u001b[0mweight_key\u001b[0m\u001b[0;34m=\u001b[0m\u001b[0mweight_key\u001b[0m\u001b[0;34m,\u001b[0m \u001b[0mid_key\u001b[0m\u001b[0;34m=\u001b[0m\u001b[0mid_key\u001b[0m\u001b[0;34m,\u001b[0m\u001b[0;34m\u001b[0m\u001b[0;34m\u001b[0m\u001b[0m\n\u001b[1;32m    956\u001b[0m                                              shear=shear)\n",
      "\u001b[0;32m~/DES/PROJECTS/xpipe/xpipe/xhandle/shearops.py\u001b[0m in \u001b[0;36mprocess_profile\u001b[0;34m(fnames, ismeta, labels, weights, weight_key, id_key, shear, Rs)\u001b[0m\n\u001b[1;32m    862\u001b[0m         \u001b[0;31m# weights = np.nan_to_num(weights).astype(int)\u001b[0m\u001b[0;34m\u001b[0m\u001b[0;34m\u001b[0m\u001b[0;34m\u001b[0m\u001b[0m\n\u001b[1;32m    863\u001b[0m     \u001b[0;31m# print(weights)\u001b[0m\u001b[0;34m\u001b[0m\u001b[0;34m\u001b[0m\u001b[0;34m\u001b[0m\u001b[0m\n\u001b[0;32m--> 864\u001b[0;31m     \u001b[0mprof\u001b[0m\u001b[0;34m.\u001b[0m\u001b[0mprof_maker\u001b[0m\u001b[0;34m(\u001b[0m\u001b[0mweights\u001b[0m\u001b[0;34m=\u001b[0m\u001b[0mweights\u001b[0m\u001b[0;34m)\u001b[0m\u001b[0;34m\u001b[0m\u001b[0;34m\u001b[0m\u001b[0m\n\u001b[0m\u001b[1;32m    865\u001b[0m \u001b[0;34m\u001b[0m\u001b[0m\n\u001b[1;32m    866\u001b[0m     \u001b[0;32mreturn\u001b[0m \u001b[0mprof\u001b[0m\u001b[0;34m\u001b[0m\u001b[0;34m\u001b[0m\u001b[0m\n",
      "\u001b[0;32m~/DES/PROJECTS/xpipe/xpipe/xhandle/shearops.py\u001b[0m in \u001b[0;36mprof_maker\u001b[0;34m(self, weights)\u001b[0m\n\u001b[1;32m    558\u001b[0m \u001b[0;34m\u001b[0m\u001b[0m\n\u001b[1;32m    559\u001b[0m         \u001b[0;31m# calculating the profiles\u001b[0m\u001b[0;34m\u001b[0m\u001b[0;34m\u001b[0m\u001b[0;34m\u001b[0m\u001b[0m\n\u001b[0;32m--> 560\u001b[0;31m         \u001b[0mself\u001b[0m\u001b[0;34m.\u001b[0m\u001b[0m_subprofiles\u001b[0m\u001b[0;34m(\u001b[0m\u001b[0;34m)\u001b[0m\u001b[0;34m\u001b[0m\u001b[0;34m\u001b[0m\u001b[0m\n\u001b[0m\u001b[1;32m    561\u001b[0m         \u001b[0mself\u001b[0m\u001b[0;34m.\u001b[0m\u001b[0m_profcalc\u001b[0m\u001b[0;34m(\u001b[0m\u001b[0;34m)\u001b[0m\u001b[0;34m\u001b[0m\u001b[0;34m\u001b[0m\u001b[0m\n\u001b[1;32m    562\u001b[0m         \u001b[0mself\u001b[0m\u001b[0;34m.\u001b[0m\u001b[0m_covcalc\u001b[0m\u001b[0;34m(\u001b[0m\u001b[0;34m)\u001b[0m\u001b[0;34m\u001b[0m\u001b[0;34m\u001b[0m\u001b[0m\n",
      "\u001b[0;32m~/DES/PROJECTS/xpipe/xpipe/xhandle/shearops.py\u001b[0m in \u001b[0;36m_subprofiles\u001b[0;34m(self)\u001b[0m\n\u001b[1;32m    459\u001b[0m             \u001b[0mssum\u001b[0m \u001b[0;34m=\u001b[0m \u001b[0mnp\u001b[0m\u001b[0;34m.\u001b[0m\u001b[0msum\u001b[0m\u001b[0;34m(\u001b[0m\u001b[0mself\u001b[0m\u001b[0;34m.\u001b[0m\u001b[0mdata\u001b[0m\u001b[0;34m[\u001b[0m\u001b[0mself\u001b[0m\u001b[0;34m.\u001b[0m\u001b[0mmeta_denom\u001b[0m\u001b[0;34m,\u001b[0m \u001b[0mind\u001b[0m\u001b[0;34m]\u001b[0m\u001b[0;34m[\u001b[0m\u001b[0;34m:\u001b[0m\u001b[0;34m,\u001b[0m \u001b[0mcind\u001b[0m\u001b[0;34m]\u001b[0m \u001b[0;34m*\u001b[0m \u001b[0mww\u001b[0m\u001b[0;34m,\u001b[0m \u001b[0maxis\u001b[0m\u001b[0;34m=\u001b[0m\u001b[0;36m0\u001b[0m\u001b[0;34m)\u001b[0m\u001b[0;34m\u001b[0m\u001b[0;34m\u001b[0m\u001b[0m\n\u001b[1;32m    460\u001b[0m \u001b[0;34m\u001b[0m\u001b[0m\n\u001b[0;32m--> 461\u001b[0;31m             \u001b[0mdsum_jack\u001b[0m \u001b[0;34m=\u001b[0m \u001b[0mnp\u001b[0m\u001b[0;34m.\u001b[0m\u001b[0msum\u001b[0m\u001b[0;34m(\u001b[0m\u001b[0mself\u001b[0m\u001b[0;34m.\u001b[0m\u001b[0mdata\u001b[0m\u001b[0;34m[\u001b[0m\u001b[0mself\u001b[0m\u001b[0;34m.\u001b[0m\u001b[0mdst_nom\u001b[0m\u001b[0;34m,\u001b[0m \u001b[0mind\u001b[0m\u001b[0;34m]\u001b[0m\u001b[0;34m[\u001b[0m\u001b[0;34m:\u001b[0m\u001b[0;34m,\u001b[0m \u001b[0mcind\u001b[0m\u001b[0;34m]\u001b[0m \u001b[0;34m*\u001b[0m \u001b[0mww\u001b[0m\u001b[0;34m,\u001b[0m \u001b[0maxis\u001b[0m\u001b[0;34m=\u001b[0m\u001b[0;36m0\u001b[0m\u001b[0;34m)\u001b[0m\u001b[0;34m\u001b[0m\u001b[0;34m\u001b[0m\u001b[0m\n\u001b[0m\u001b[1;32m    462\u001b[0m             \u001b[0mdsum_w_jack\u001b[0m \u001b[0;34m=\u001b[0m \u001b[0mnp\u001b[0m\u001b[0;34m.\u001b[0m\u001b[0msum\u001b[0m\u001b[0;34m(\u001b[0m\u001b[0mself\u001b[0m\u001b[0;34m.\u001b[0m\u001b[0mdata\u001b[0m\u001b[0;34m[\u001b[0m\u001b[0mself\u001b[0m\u001b[0;34m.\u001b[0m\u001b[0mdst_denom\u001b[0m\u001b[0;34m,\u001b[0m \u001b[0mind\u001b[0m\u001b[0;34m]\u001b[0m\u001b[0;34m[\u001b[0m\u001b[0;34m:\u001b[0m\u001b[0;34m,\u001b[0m \u001b[0mcind\u001b[0m\u001b[0;34m]\u001b[0m \u001b[0;34m*\u001b[0m \u001b[0mww\u001b[0m\u001b[0;34m,\u001b[0m \u001b[0maxis\u001b[0m\u001b[0;34m=\u001b[0m\u001b[0;36m0\u001b[0m\u001b[0;34m)\u001b[0m\u001b[0;34m\u001b[0m\u001b[0;34m\u001b[0m\u001b[0m\n\u001b[1;32m    463\u001b[0m \u001b[0;34m\u001b[0m\u001b[0m\n",
      "\u001b[0;31mKeyboardInterrupt\u001b[0m: "
     ]
    }
   ],
   "source": [
    "ms_opt2=[np.array([-0.024,-0.037]),np.array([-0.024,-0.037]),np.array([-0.037,]),np.array([-0.037,])]\n",
    "optsbins2=[(2,3),(2,3),(3,),(3,)]\n",
    "# ACP_old = []\n",
    "ACP_new = []\n",
    "for i, fname in enumerate(flist):\n",
    "    mfac_opt2=1/(1+ms_opt2[i])\n",
    "    \n",
    "    ACP = shearops.AutoCalibrateProfile([flist[i],], flist_jk[i], src, xlims=(0.01, 100), sbins=optsbins2[i])\n",
    "    ACP.get_profiles(ismeta=False, id_key=\"ID\", z_key=\"Z\", mfactor_sbins=mfac_opt2) #\n",
    "    ACP_new.append(ACP)    "
   ]
  },
  {
   "cell_type": "code",
   "execution_count": 21,
   "id": "89e1766c",
   "metadata": {},
   "outputs": [
    {
     "data": {
      "text/html": [
       "<div>\n",
       "<style scoped>\n",
       "    .dataframe tbody tr th:only-of-type {\n",
       "        vertical-align: middle;\n",
       "    }\n",
       "\n",
       "    .dataframe tbody tr th {\n",
       "        vertical-align: top;\n",
       "    }\n",
       "\n",
       "    .dataframe thead th {\n",
       "        text-align: right;\n",
       "    }\n",
       "</style>\n",
       "<table border=\"1\" class=\"dataframe\">\n",
       "  <thead>\n",
       "    <tr style=\"text-align: right;\">\n",
       "      <th></th>\n",
       "      <th>ID</th>\n",
       "      <th>index</th>\n",
       "      <th>RA</th>\n",
       "      <th>DEC</th>\n",
       "      <th>WSYS</th>\n",
       "      <th>Z</th>\n",
       "      <th>WEIGHT</th>\n",
       "    </tr>\n",
       "  </thead>\n",
       "  <tbody>\n",
       "    <tr>\n",
       "      <th>0</th>\n",
       "      <td>1016761.0</td>\n",
       "      <td>50707</td>\n",
       "      <td>43.545575</td>\n",
       "      <td>1.200097</td>\n",
       "      <td>0.946144</td>\n",
       "      <td>0.620642</td>\n",
       "      <td>1.0</td>\n",
       "    </tr>\n",
       "    <tr>\n",
       "      <th>1</th>\n",
       "      <td>1016762.0</td>\n",
       "      <td>50708</td>\n",
       "      <td>43.628713</td>\n",
       "      <td>1.223640</td>\n",
       "      <td>0.940779</td>\n",
       "      <td>0.596930</td>\n",
       "      <td>1.0</td>\n",
       "    </tr>\n",
       "    <tr>\n",
       "      <th>2</th>\n",
       "      <td>1016764.0</td>\n",
       "      <td>50710</td>\n",
       "      <td>44.050143</td>\n",
       "      <td>1.230958</td>\n",
       "      <td>0.961983</td>\n",
       "      <td>0.614112</td>\n",
       "      <td>1.0</td>\n",
       "    </tr>\n",
       "    <tr>\n",
       "      <th>3</th>\n",
       "      <td>1016765.0</td>\n",
       "      <td>50711</td>\n",
       "      <td>44.170234</td>\n",
       "      <td>1.230144</td>\n",
       "      <td>0.934858</td>\n",
       "      <td>0.615811</td>\n",
       "      <td>1.0</td>\n",
       "    </tr>\n",
       "    <tr>\n",
       "      <th>4</th>\n",
       "      <td>1016766.0</td>\n",
       "      <td>50712</td>\n",
       "      <td>44.241018</td>\n",
       "      <td>1.197829</td>\n",
       "      <td>0.936552</td>\n",
       "      <td>0.540546</td>\n",
       "      <td>1.0</td>\n",
       "    </tr>\n",
       "    <tr>\n",
       "      <th>...</th>\n",
       "      <td>...</td>\n",
       "      <td>...</td>\n",
       "      <td>...</td>\n",
       "      <td>...</td>\n",
       "      <td>...</td>\n",
       "      <td>...</td>\n",
       "      <td>...</td>\n",
       "    </tr>\n",
       "    <tr>\n",
       "      <th>34218</th>\n",
       "      <td>1035140.0</td>\n",
       "      <td>69086</td>\n",
       "      <td>23.568225</td>\n",
       "      <td>2.668823</td>\n",
       "      <td>0.923135</td>\n",
       "      <td>0.558708</td>\n",
       "      <td>1.0</td>\n",
       "    </tr>\n",
       "    <tr>\n",
       "      <th>34219</th>\n",
       "      <td>1035141.0</td>\n",
       "      <td>69087</td>\n",
       "      <td>23.746751</td>\n",
       "      <td>2.757856</td>\n",
       "      <td>0.920309</td>\n",
       "      <td>0.621492</td>\n",
       "      <td>1.0</td>\n",
       "    </tr>\n",
       "    <tr>\n",
       "      <th>34220</th>\n",
       "      <td>1035142.0</td>\n",
       "      <td>69088</td>\n",
       "      <td>23.748853</td>\n",
       "      <td>2.598477</td>\n",
       "      <td>0.952662</td>\n",
       "      <td>0.615452</td>\n",
       "      <td>1.0</td>\n",
       "    </tr>\n",
       "    <tr>\n",
       "      <th>34221</th>\n",
       "      <td>1035143.0</td>\n",
       "      <td>69089</td>\n",
       "      <td>23.764014</td>\n",
       "      <td>2.670462</td>\n",
       "      <td>0.927212</td>\n",
       "      <td>0.611902</td>\n",
       "      <td>1.0</td>\n",
       "    </tr>\n",
       "    <tr>\n",
       "      <th>34222</th>\n",
       "      <td>1035144.0</td>\n",
       "      <td>69090</td>\n",
       "      <td>23.781737</td>\n",
       "      <td>2.662999</td>\n",
       "      <td>0.943116</td>\n",
       "      <td>0.613329</td>\n",
       "      <td>1.0</td>\n",
       "    </tr>\n",
       "  </tbody>\n",
       "</table>\n",
       "<p>34223 rows × 7 columns</p>\n",
       "</div>"
      ],
      "text/plain": [
       "              ID  index         RA       DEC      WSYS         Z  WEIGHT\n",
       "0      1016761.0  50707  43.545575  1.200097  0.946144  0.620642     1.0\n",
       "1      1016762.0  50708  43.628713  1.223640  0.940779  0.596930     1.0\n",
       "2      1016764.0  50710  44.050143  1.230958  0.961983  0.614112     1.0\n",
       "3      1016765.0  50711  44.170234  1.230144  0.934858  0.615811     1.0\n",
       "4      1016766.0  50712  44.241018  1.197829  0.936552  0.540546     1.0\n",
       "...          ...    ...        ...       ...       ...       ...     ...\n",
       "34218  1035140.0  69086  23.568225  2.668823  0.923135  0.558708     1.0\n",
       "34219  1035141.0  69087  23.746751  2.757856  0.920309  0.621492     1.0\n",
       "34220  1035142.0  69088  23.748853  2.598477  0.952662  0.615452     1.0\n",
       "34221  1035143.0  69089  23.764014  2.670462  0.927212  0.611902     1.0\n",
       "34222  1035144.0  69090  23.781737  2.662999  0.943116  0.613329     1.0\n",
       "\n",
       "[34223 rows x 7 columns]"
      ]
     },
     "execution_count": 21,
     "metadata": {},
     "output_type": "execute_result"
    }
   ],
   "source": [
    "target"
   ]
  },
  {
   "cell_type": "code",
   "execution_count": 29,
   "id": "ff7b1acb",
   "metadata": {
    "scrolled": false
   },
   "outputs": [
    {
     "name": "stdout",
     "output_type": "stream",
     "text": [
      "[1.02003447 1.01626519]\n",
      "[1.00828595 1.00574526]\n",
      "[0.99989163]\n",
      "[1.01181695]\n"
     ]
    }
   ],
   "source": [
    "for i in np.arange(4):\n",
    "    target = ACP_new[i].target\n",
    "    zmean = np.average(target[\"Z\"], weights=target[\"WSYS\"])\n",
    "    sc_p = []\n",
    "    for val in optsbins2[i]:\n",
    "        tmp = src.get_single_scinv(zmean, val)\n",
    "        sc_p.append(tmp)\n",
    "    sc_p = np.array(sc_p)\n",
    "#     print(sc_p)\n",
    "    \n",
    "    sc_bin = []\n",
    "    for val in optsbins2[i]:\n",
    "        tmp = src.get_bin_scinv(target[\"Z\"], val, weights=target[\"WSYS\"])\n",
    "        sc_bin.append(tmp)\n",
    "    sc_bin = np.array(sc_bin)\n",
    "#     print(sc_bin)  \n",
    "    \n",
    "#     print((sc_p.sum() / sc_bin.sum()))\n",
    "    print((sc_p / sc_bin))\n"
   ]
  },
  {
   "cell_type": "code",
   "execution_count": null,
   "id": "91e09723",
   "metadata": {},
   "outputs": [],
   "source": []
  },
  {
   "cell_type": "code",
   "execution_count": 19,
   "id": "f93732b2",
   "metadata": {},
   "outputs": [
    {
     "ename": "ValueError",
     "evalue": "weights should have the same shape as a.",
     "output_type": "error",
     "traceback": [
      "\u001b[0;31m---------------------------------------------------------------------------\u001b[0m",
      "\u001b[0;31mValueError\u001b[0m                                Traceback (most recent call last)",
      "\u001b[0;32m<ipython-input-19-d6908c9e6f51>\u001b[0m in \u001b[0;36m<module>\u001b[0;34m\u001b[0m\n\u001b[1;32m      1\u001b[0m \u001b[0mACP\u001b[0m\u001b[0;34m.\u001b[0m\u001b[0m_get_scinvs\u001b[0m\u001b[0;34m(\u001b[0m\u001b[0mz_key\u001b[0m\u001b[0;34m=\u001b[0m\u001b[0;34m\"Z\"\u001b[0m\u001b[0;34m)\u001b[0m\u001b[0;34m\u001b[0m\u001b[0;34m\u001b[0m\u001b[0m\n\u001b[1;32m      2\u001b[0m \u001b[0mval0\u001b[0m \u001b[0;34m=\u001b[0m \u001b[0mcopy\u001b[0m\u001b[0;34m.\u001b[0m\u001b[0mcopy\u001b[0m\u001b[0;34m(\u001b[0m\u001b[0mACP_new\u001b[0m\u001b[0;34m[\u001b[0m\u001b[0;36m0\u001b[0m\u001b[0;34m]\u001b[0m\u001b[0;34m.\u001b[0m\u001b[0mscinvs\u001b[0m\u001b[0;34m)\u001b[0m\u001b[0;34m\u001b[0m\u001b[0;34m\u001b[0m\u001b[0m\n\u001b[0;32m----> 3\u001b[0;31m \u001b[0mACP\u001b[0m\u001b[0;34m.\u001b[0m\u001b[0m_get_scinvs_bin\u001b[0m\u001b[0;34m(\u001b[0m\u001b[0mz_key\u001b[0m\u001b[0;34m=\u001b[0m\u001b[0;34m\"Z\"\u001b[0m\u001b[0;34m)\u001b[0m\u001b[0;34m\u001b[0m\u001b[0;34m\u001b[0m\u001b[0m\n\u001b[0m\u001b[1;32m      4\u001b[0m \u001b[0;31m# val1 = copy.copy(ACP.scinvs)\u001b[0m\u001b[0;34m\u001b[0m\u001b[0;34m\u001b[0m\u001b[0;34m\u001b[0m\u001b[0m\n",
      "\u001b[0;32m~/DES/PROJECTS/xpipe/xpipe/xhandle/shearops.py\u001b[0m in \u001b[0;36m_get_scinvs_bin\u001b[0;34m(self, z_key, **kwargs)\u001b[0m\n\u001b[1;32m    988\u001b[0m         \u001b[0mself\u001b[0m\u001b[0;34m.\u001b[0m\u001b[0mscinvs\u001b[0m \u001b[0;34m=\u001b[0m \u001b[0;34m[\u001b[0m\u001b[0;34m]\u001b[0m\u001b[0;34m\u001b[0m\u001b[0;34m\u001b[0m\u001b[0m\n\u001b[1;32m    989\u001b[0m         \u001b[0;32mfor\u001b[0m \u001b[0msbin\u001b[0m \u001b[0;32min\u001b[0m \u001b[0mself\u001b[0m\u001b[0;34m.\u001b[0m\u001b[0msbins\u001b[0m\u001b[0;34m:\u001b[0m\u001b[0;34m\u001b[0m\u001b[0;34m\u001b[0m\u001b[0m\n\u001b[0;32m--> 990\u001b[0;31m             \u001b[0mself\u001b[0m\u001b[0;34m.\u001b[0m\u001b[0mscinvs\u001b[0m\u001b[0;34m.\u001b[0m\u001b[0mappend\u001b[0m\u001b[0;34m(\u001b[0m\u001b[0mself\u001b[0m\u001b[0;34m.\u001b[0m\u001b[0mpzcat\u001b[0m\u001b[0;34m.\u001b[0m\u001b[0mget_bin_scinv\u001b[0m\u001b[0;34m(\u001b[0m\u001b[0mzmean\u001b[0m\u001b[0;34m,\u001b[0m \u001b[0msbin\u001b[0m\u001b[0;34m=\u001b[0m\u001b[0msbin\u001b[0m\u001b[0;34m,\u001b[0m \u001b[0mweights\u001b[0m\u001b[0;34m=\u001b[0m\u001b[0mself\u001b[0m\u001b[0;34m.\u001b[0m\u001b[0mtarget\u001b[0m\u001b[0;34m[\u001b[0m\u001b[0;34m\"WEIGHT\"\u001b[0m\u001b[0;34m]\u001b[0m\u001b[0;34m.\u001b[0m\u001b[0mvalues\u001b[0m\u001b[0;34m)\u001b[0m\u001b[0;34m)\u001b[0m\u001b[0;34m\u001b[0m\u001b[0;34m\u001b[0m\u001b[0m\n\u001b[0m\u001b[1;32m    991\u001b[0m         \u001b[0mself\u001b[0m\u001b[0;34m.\u001b[0m\u001b[0mscinvs\u001b[0m \u001b[0;34m=\u001b[0m \u001b[0mnp\u001b[0m\u001b[0;34m.\u001b[0m\u001b[0marray\u001b[0m\u001b[0;34m(\u001b[0m\u001b[0mself\u001b[0m\u001b[0;34m.\u001b[0m\u001b[0mscinvs\u001b[0m\u001b[0;34m)\u001b[0m\u001b[0;34m\u001b[0m\u001b[0;34m\u001b[0m\u001b[0m\n\u001b[1;32m    992\u001b[0m \u001b[0;34m\u001b[0m\u001b[0m\n",
      "\u001b[0;32m~/DES/PROJECTS/xpipe/xpipe/tools/y3_sompz.py\u001b[0m in \u001b[0;36mget_bin_scinv\u001b[0;34m(self, clust_zvals, sbin, weights)\u001b[0m\n\u001b[1;32m    111\u001b[0m         \u001b[0;32mexcept\u001b[0m\u001b[0;34m:\u001b[0m\u001b[0;34m\u001b[0m\u001b[0;34m\u001b[0m\u001b[0m\n\u001b[1;32m    112\u001b[0m             \u001b[0mclust_zvals\u001b[0m \u001b[0;34m=\u001b[0m \u001b[0;34m(\u001b[0m\u001b[0mclust_zvals\u001b[0m\u001b[0;34m,\u001b[0m\u001b[0;34m)\u001b[0m\u001b[0;34m\u001b[0m\u001b[0;34m\u001b[0m\u001b[0m\n\u001b[0;32m--> 113\u001b[0;31m         \u001b[0mccounts\u001b[0m \u001b[0;34m=\u001b[0m \u001b[0mnp\u001b[0m\u001b[0;34m.\u001b[0m\u001b[0mhistogram\u001b[0m\u001b[0;34m(\u001b[0m\u001b[0mclust_zvals\u001b[0m\u001b[0;34m,\u001b[0m \u001b[0mbins\u001b[0m\u001b[0;34m=\u001b[0m\u001b[0mself\u001b[0m\u001b[0;34m.\u001b[0m\u001b[0mzclust_grid_edges\u001b[0m\u001b[0;34m,\u001b[0m \u001b[0mweights\u001b[0m\u001b[0;34m=\u001b[0m\u001b[0mweights\u001b[0m\u001b[0;34m)\u001b[0m\u001b[0;34m[\u001b[0m\u001b[0;36m0\u001b[0m\u001b[0;34m]\u001b[0m\u001b[0;34m\u001b[0m\u001b[0;34m\u001b[0m\u001b[0m\n\u001b[0m\u001b[1;32m    114\u001b[0m \u001b[0;34m\u001b[0m\u001b[0m\n\u001b[1;32m    115\u001b[0m         \u001b[0mscvals\u001b[0m \u001b[0;34m=\u001b[0m \u001b[0mnp\u001b[0m\u001b[0;34m.\u001b[0m\u001b[0mzeros\u001b[0m\u001b[0;34m(\u001b[0m\u001b[0mlen\u001b[0m\u001b[0;34m(\u001b[0m\u001b[0mself\u001b[0m\u001b[0;34m.\u001b[0m\u001b[0mzclust_grid\u001b[0m\u001b[0;34m)\u001b[0m\u001b[0;34m)\u001b[0m\u001b[0;34m\u001b[0m\u001b[0;34m\u001b[0m\u001b[0m\n",
      "\u001b[0;32m<__array_function__ internals>\u001b[0m in \u001b[0;36mhistogram\u001b[0;34m(*args, **kwargs)\u001b[0m\n",
      "\u001b[0;32m~/anaconda3/envs/main3/lib/python3.8/site-packages/numpy/lib/histograms.py\u001b[0m in \u001b[0;36mhistogram\u001b[0;34m(a, bins, range, normed, weights, density)\u001b[0m\n\u001b[1;32m    788\u001b[0m \u001b[0;34m\u001b[0m\u001b[0m\n\u001b[1;32m    789\u001b[0m     \"\"\"\n\u001b[0;32m--> 790\u001b[0;31m     \u001b[0ma\u001b[0m\u001b[0;34m,\u001b[0m \u001b[0mweights\u001b[0m \u001b[0;34m=\u001b[0m \u001b[0m_ravel_and_check_weights\u001b[0m\u001b[0;34m(\u001b[0m\u001b[0ma\u001b[0m\u001b[0;34m,\u001b[0m \u001b[0mweights\u001b[0m\u001b[0;34m)\u001b[0m\u001b[0;34m\u001b[0m\u001b[0;34m\u001b[0m\u001b[0m\n\u001b[0m\u001b[1;32m    791\u001b[0m \u001b[0;34m\u001b[0m\u001b[0m\n\u001b[1;32m    792\u001b[0m     \u001b[0mbin_edges\u001b[0m\u001b[0;34m,\u001b[0m \u001b[0muniform_bins\u001b[0m \u001b[0;34m=\u001b[0m \u001b[0m_get_bin_edges\u001b[0m\u001b[0;34m(\u001b[0m\u001b[0ma\u001b[0m\u001b[0;34m,\u001b[0m \u001b[0mbins\u001b[0m\u001b[0;34m,\u001b[0m \u001b[0mrange\u001b[0m\u001b[0;34m,\u001b[0m \u001b[0mweights\u001b[0m\u001b[0;34m)\u001b[0m\u001b[0;34m\u001b[0m\u001b[0;34m\u001b[0m\u001b[0m\n",
      "\u001b[0;32m~/anaconda3/envs/main3/lib/python3.8/site-packages/numpy/lib/histograms.py\u001b[0m in \u001b[0;36m_ravel_and_check_weights\u001b[0;34m(a, weights)\u001b[0m\n\u001b[1;32m    295\u001b[0m         \u001b[0mweights\u001b[0m \u001b[0;34m=\u001b[0m \u001b[0mnp\u001b[0m\u001b[0;34m.\u001b[0m\u001b[0masarray\u001b[0m\u001b[0;34m(\u001b[0m\u001b[0mweights\u001b[0m\u001b[0;34m)\u001b[0m\u001b[0;34m\u001b[0m\u001b[0;34m\u001b[0m\u001b[0m\n\u001b[1;32m    296\u001b[0m         \u001b[0;32mif\u001b[0m \u001b[0mweights\u001b[0m\u001b[0;34m.\u001b[0m\u001b[0mshape\u001b[0m \u001b[0;34m!=\u001b[0m \u001b[0ma\u001b[0m\u001b[0;34m.\u001b[0m\u001b[0mshape\u001b[0m\u001b[0;34m:\u001b[0m\u001b[0;34m\u001b[0m\u001b[0;34m\u001b[0m\u001b[0m\n\u001b[0;32m--> 297\u001b[0;31m             raise ValueError(\n\u001b[0m\u001b[1;32m    298\u001b[0m                 'weights should have the same shape as a.')\n\u001b[1;32m    299\u001b[0m         \u001b[0mweights\u001b[0m \u001b[0;34m=\u001b[0m \u001b[0mweights\u001b[0m\u001b[0;34m.\u001b[0m\u001b[0mravel\u001b[0m\u001b[0;34m(\u001b[0m\u001b[0;34m)\u001b[0m\u001b[0;34m\u001b[0m\u001b[0;34m\u001b[0m\u001b[0m\n",
      "\u001b[0;31mValueError\u001b[0m: weights should have the same shape as a."
     ]
    }
   ],
   "source": [
    "ACP._get_scinvs(z_key=\"Z\")\n",
    "val0 = copy.copy(ACP_new[0].scinvs)\n",
    "# ACP._get_scinvs_bin(z_key=\"Z\")\n",
    "# val1 = copy.copy(ACP.scinvs)\n"
   ]
  },
  {
   "cell_type": "code",
   "execution_count": null,
   "id": "95f3910c",
   "metadata": {},
   "outputs": [],
   "source": []
  },
  {
   "cell_type": "code",
   "execution_count": 17,
   "id": "f1dd1d00",
   "metadata": {},
   "outputs": [
    {
     "data": {
      "text/plain": [
       "array([0.00028487, 0.00030714])"
      ]
     },
     "execution_count": 17,
     "metadata": {},
     "output_type": "execute_result"
    }
   ],
   "source": [
    "val0"
   ]
  },
  {
   "cell_type": "code",
   "execution_count": 14,
   "id": "310b6a35",
   "metadata": {},
   "outputs": [
    {
     "data": {
      "text/html": [
       "<div>\n",
       "<style scoped>\n",
       "    .dataframe tbody tr th:only-of-type {\n",
       "        vertical-align: middle;\n",
       "    }\n",
       "\n",
       "    .dataframe tbody tr th {\n",
       "        vertical-align: top;\n",
       "    }\n",
       "\n",
       "    .dataframe thead th {\n",
       "        text-align: right;\n",
       "    }\n",
       "</style>\n",
       "<table border=\"1\" class=\"dataframe\">\n",
       "  <thead>\n",
       "    <tr style=\"text-align: right;\">\n",
       "      <th></th>\n",
       "      <th>ID</th>\n",
       "      <th>index</th>\n",
       "      <th>RA</th>\n",
       "      <th>DEC</th>\n",
       "      <th>WSYS</th>\n",
       "      <th>Z</th>\n",
       "      <th>WEIGHT</th>\n",
       "    </tr>\n",
       "  </thead>\n",
       "  <tbody>\n",
       "    <tr>\n",
       "      <th>0</th>\n",
       "      <td>1016761.0</td>\n",
       "      <td>50707</td>\n",
       "      <td>43.545575</td>\n",
       "      <td>1.200097</td>\n",
       "      <td>0.946144</td>\n",
       "      <td>0.620642</td>\n",
       "      <td>1.0</td>\n",
       "    </tr>\n",
       "    <tr>\n",
       "      <th>1</th>\n",
       "      <td>1016762.0</td>\n",
       "      <td>50708</td>\n",
       "      <td>43.628713</td>\n",
       "      <td>1.223640</td>\n",
       "      <td>0.940779</td>\n",
       "      <td>0.596930</td>\n",
       "      <td>1.0</td>\n",
       "    </tr>\n",
       "    <tr>\n",
       "      <th>2</th>\n",
       "      <td>1016764.0</td>\n",
       "      <td>50710</td>\n",
       "      <td>44.050143</td>\n",
       "      <td>1.230958</td>\n",
       "      <td>0.961983</td>\n",
       "      <td>0.614112</td>\n",
       "      <td>1.0</td>\n",
       "    </tr>\n",
       "    <tr>\n",
       "      <th>3</th>\n",
       "      <td>1016765.0</td>\n",
       "      <td>50711</td>\n",
       "      <td>44.170234</td>\n",
       "      <td>1.230144</td>\n",
       "      <td>0.934858</td>\n",
       "      <td>0.615811</td>\n",
       "      <td>1.0</td>\n",
       "    </tr>\n",
       "    <tr>\n",
       "      <th>4</th>\n",
       "      <td>1016766.0</td>\n",
       "      <td>50712</td>\n",
       "      <td>44.241018</td>\n",
       "      <td>1.197829</td>\n",
       "      <td>0.936552</td>\n",
       "      <td>0.540546</td>\n",
       "      <td>1.0</td>\n",
       "    </tr>\n",
       "    <tr>\n",
       "      <th>...</th>\n",
       "      <td>...</td>\n",
       "      <td>...</td>\n",
       "      <td>...</td>\n",
       "      <td>...</td>\n",
       "      <td>...</td>\n",
       "      <td>...</td>\n",
       "      <td>...</td>\n",
       "    </tr>\n",
       "    <tr>\n",
       "      <th>34218</th>\n",
       "      <td>1035140.0</td>\n",
       "      <td>69086</td>\n",
       "      <td>23.568225</td>\n",
       "      <td>2.668823</td>\n",
       "      <td>0.923135</td>\n",
       "      <td>0.558708</td>\n",
       "      <td>1.0</td>\n",
       "    </tr>\n",
       "    <tr>\n",
       "      <th>34219</th>\n",
       "      <td>1035141.0</td>\n",
       "      <td>69087</td>\n",
       "      <td>23.746751</td>\n",
       "      <td>2.757856</td>\n",
       "      <td>0.920309</td>\n",
       "      <td>0.621492</td>\n",
       "      <td>1.0</td>\n",
       "    </tr>\n",
       "    <tr>\n",
       "      <th>34220</th>\n",
       "      <td>1035142.0</td>\n",
       "      <td>69088</td>\n",
       "      <td>23.748853</td>\n",
       "      <td>2.598477</td>\n",
       "      <td>0.952662</td>\n",
       "      <td>0.615452</td>\n",
       "      <td>1.0</td>\n",
       "    </tr>\n",
       "    <tr>\n",
       "      <th>34221</th>\n",
       "      <td>1035143.0</td>\n",
       "      <td>69089</td>\n",
       "      <td>23.764014</td>\n",
       "      <td>2.670462</td>\n",
       "      <td>0.927212</td>\n",
       "      <td>0.611902</td>\n",
       "      <td>1.0</td>\n",
       "    </tr>\n",
       "    <tr>\n",
       "      <th>34222</th>\n",
       "      <td>1035144.0</td>\n",
       "      <td>69090</td>\n",
       "      <td>23.781737</td>\n",
       "      <td>2.662999</td>\n",
       "      <td>0.943116</td>\n",
       "      <td>0.613329</td>\n",
       "      <td>1.0</td>\n",
       "    </tr>\n",
       "  </tbody>\n",
       "</table>\n",
       "<p>34223 rows × 7 columns</p>\n",
       "</div>"
      ],
      "text/plain": [
       "              ID  index         RA       DEC      WSYS         Z  WEIGHT\n",
       "0      1016761.0  50707  43.545575  1.200097  0.946144  0.620642     1.0\n",
       "1      1016762.0  50708  43.628713  1.223640  0.940779  0.596930     1.0\n",
       "2      1016764.0  50710  44.050143  1.230958  0.961983  0.614112     1.0\n",
       "3      1016765.0  50711  44.170234  1.230144  0.934858  0.615811     1.0\n",
       "4      1016766.0  50712  44.241018  1.197829  0.936552  0.540546     1.0\n",
       "...          ...    ...        ...       ...       ...       ...     ...\n",
       "34218  1035140.0  69086  23.568225  2.668823  0.923135  0.558708     1.0\n",
       "34219  1035141.0  69087  23.746751  2.757856  0.920309  0.621492     1.0\n",
       "34220  1035142.0  69088  23.748853  2.598477  0.952662  0.615452     1.0\n",
       "34221  1035143.0  69089  23.764014  2.670462  0.927212  0.611902     1.0\n",
       "34222  1035144.0  69090  23.781737  2.662999  0.943116  0.613329     1.0\n",
       "\n",
       "[34223 rows x 7 columns]"
      ]
     },
     "execution_count": 14,
     "metadata": {},
     "output_type": "execute_result"
    }
   ],
   "source": [
    "ACP.target"
   ]
  },
  {
   "cell_type": "code",
   "execution_count": null,
   "id": "e2ebd481",
   "metadata": {},
   "outputs": [],
   "source": []
  },
  {
   "cell_type": "code",
   "execution_count": null,
   "id": "d94ae342",
   "metadata": {},
   "outputs": [],
   "source": []
  }
 ],
 "metadata": {
  "kernelspec": {
   "display_name": "Python 3",
   "language": "python",
   "name": "python3"
  },
  "language_info": {
   "codemirror_mode": {
    "name": "ipython",
    "version": 3
   },
   "file_extension": ".py",
   "mimetype": "text/x-python",
   "name": "python",
   "nbconvert_exporter": "python",
   "pygments_lexer": "ipython3",
   "version": "3.8.8"
  },
  "toc": {
   "base_numbering": 1,
   "nav_menu": {},
   "number_sections": true,
   "sideBar": true,
   "skip_h1_title": false,
   "title_cell": "Table of Contents",
   "title_sidebar": "Contents",
   "toc_cell": false,
   "toc_position": {},
   "toc_section_display": true,
   "toc_window_display": false
  },
  "widgets": {
   "state": {},
   "version": "1.0.0"
  }
 },
 "nbformat": 4,
 "nbformat_minor": 5
}
