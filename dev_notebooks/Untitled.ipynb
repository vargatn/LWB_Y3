{
 "cells": [
  {
   "cell_type": "code",
   "execution_count": 1,
   "metadata": {},
   "outputs": [
    {
     "name": "stdout",
     "output_type": "stream",
     "text": [
      "reading DEFAULTS from default_params.yml\n",
      "updating params from: /home/moon/vargatn/DES/PROJECTS/xpipe/settings/params.yml\n",
      "updating params from: /home/moon/vargatn/DES/PROJECTS/xpipe/settings/params_y3rm-stack_meta.yml\n",
      "updating params from: /home/moon/vargatn/DES/PROJECTS/xpipe/settings/params_y3lwb_meta.yml\n",
      "\n",
      "***********************\n",
      "\n",
      "running in full mode\n",
      "\n",
      "***********************\n",
      "\n"
     ]
    }
   ],
   "source": [
    "import pandas as pd\n",
    "import numpy as np\n",
    "import healpy as hp\n",
    "import h5py\n",
    "import matplotlib.pyplot as plt\n",
    "import yaml\n",
    "import fitsio\n",
    "import numba as nb\n",
    "from numba import jit\n",
    "import fitsio as fio\n",
    "\n",
    "import copy\n",
    "\n",
    "from collections import OrderedDict\n",
    "\n",
    "import xpipe.paths as paths\n",
    "import xpipe.xhandle.parbins as parbins\n",
    "import xpipe.xhandle.xwrap as xwrap\n",
    "import xpipe.tools.selector as selector\n",
    "import xpipe.xhandle.shearops as shearops\n",
    "import matplotlib as mpl\n",
    "# from matplotlib import rc\n",
    "mpl.rc('font',**{'family':'serif','serif':['serif']})\n",
    "## for Palatino and other serif fonts use:\n",
    "#rc('font',**{'family':'serif','serif':['Palatino']})\n",
    "mpl.rc('text', usetex=True)\n",
    "# mpl.rcParams['figure.dpi'] = 300\n",
    "\n",
    "# mpl.rcParams[\"font.family\"] = \"serif\"\n",
    "# mpl.rcParams[\"mathtext.fontset\"] = \"dejavuserif\"\n",
    "import astropy.constants as constants\n",
    "import astropy.units as u\n",
    "import astropy.cosmology as cosmology\n",
    "\n",
    "import scipy.interpolate as interp\n",
    "\n",
    "cosmo = cosmology.FlatLambdaCDM(Om0=0.3, H0=70)\n",
    "\n",
    "from importlib import reload\n",
    "%config InlineBackend.figure_format = 'svg'\n",
    "import pickle\n",
    "\n",
    "import xpipe.tools.y3_sompz as sompz\n",
    "\n",
    "import xpipe.tools.selector as sl\n",
    "import xpipe.tools.visual as visual\n",
    "import xpipe.xhandle.pzboost as pzboost\n",
    "\n",
    "import sklearn\n",
    "import sklearn.covariance\n",
    "import sklearn.neighbors\n",
    "import sklearn.decomposition\n",
    "import scipy.stats as stats\n",
    "\n",
    "import NFW\n",
    "import scipy.optimize as optimize\n",
    "import emcee\n",
    "from cluster_toolkit import deltasigma\n",
    "\n",
    "from cluster_toolkit import xi\n",
    "from cluster_toolkit import bias\n",
    "\n",
    "\n",
    "from classy import Class\n",
    "from multiprocessing import Pool\n",
    "\n",
    "import corner\n",
    "paths.update_params(\"/home/moon/vargatn/DES/PROJECTS/xpipe/settings/params_y3lwb_meta.yml\")"
   ]
  },
  {
   "cell_type": "code",
   "execution_count": 7,
   "metadata": {},
   "outputs": [],
   "source": [
    "tmp = np.loadtxt(\"DESY3_CMASS.dat\")[:, (0, 1, 6, 7)]\n",
    "cmass = pd.DataFrame(data=tmp, columns=(\"RA\", \"DEC\", \"WSYS\", \"Z\"))\n",
    "\n",
    "oname = \"/e/ocean1/users/vargatn/DES/DES_Y3A2_cluster/data/lenscat/LWB_DESY3_CMASS.fits\"\n",
    "tmp = cmass.to_records()\n",
    "tmp[\"index\"] = tmp[\"index\"] + 1e6\n",
    "# fio.write(oname, cmass.to_records())"
   ]
  },
  {
   "cell_type": "code",
   "execution_count": 8,
   "metadata": {},
   "outputs": [],
   "source": [
    "tmp = np.loadtxt(\"DESY3_LOWZ.dat\")[:, (0, 1, 6, 7)]\n",
    "lowz = pd.DataFrame(data=tmp, columns=(\"RA\", \"DEC\", \"WSYS\", \"Z\"))\n",
    "\n",
    "oname = \"/e/ocean1/users/vargatn/DES/DES_Y3A2_cluster/data/lenscat/LWB_DESY3_LOWZ.fits\"\n",
    "# fio.write(oname, lowz.to_records())"
   ]
  },
  {
   "cell_type": "code",
   "execution_count": 9,
   "metadata": {},
   "outputs": [],
   "source": [
    "# tmp = cmass.to_records()\n",
    "\n",
    "allgal = pd.concat((lowz, cmass), ignore_index=True)\n",
    "\n",
    "oname = \"/e/ocean1/users/vargatn/DES/DES_Y3A2_cluster/data/lenscat/LWB_DESY3_ALL.fits\"\n",
    "# fio.write(oname, allgal.to_records())"
   ]
  },
  {
   "cell_type": "code",
   "execution_count": 10,
   "metadata": {},
   "outputs": [],
   "source": [
    "weights = pd.DataFrame()\n",
    "weights[\"ww\"] = allgal[\"WSYS\"]\n",
    "weights[\"id\"] = np.arange(len(allgal))"
   ]
  },
  {
   "cell_type": "markdown",
   "metadata": {},
   "source": [
    "# Processing results"
   ]
  },
  {
   "cell_type": "code",
   "execution_count": 2,
   "metadata": {},
   "outputs": [],
   "source": [
    "def sigma_crit_inv(zclust, z):\n",
    "    global cosmo\n",
    "    prefac = (4. * np.pi * constants.G / (constants.c**2.)).to(u.pc / u.Msun)\n",
    "    \n",
    "    Ds = cosmo.angular_diameter_distance(z).to(u.pc)\n",
    "    Dl = cosmo.angular_diameter_distance(zclust).to(u.pc)\n",
    "    Dls = cosmo.angular_diameter_distance_z1z2(zclust, z).to(u.pc)\n",
    "    \n",
    "    val = prefac * Dl * Dls / Ds\n",
    "#     print(val)\n",
    "    resval = np.max((0. , val.value))\n",
    "    return resval"
   ]
  },
  {
   "cell_type": "code",
   "execution_count": 3,
   "metadata": {},
   "outputs": [],
   "source": [
    "main_file_path = \"/e/ocean1/users/vargatn/DESY3/Y3_mastercat_03_31_20.h5\"\n",
    "main_file = h5py.File(main_file_path, mode = 'r')\n",
    "zlows = main_file[\"catalog/sompz/pzdata/zlow\"][:]\n",
    "zhighs = main_file[\"catalog/sompz/pzdata/zhigh\"][:]\n",
    "zcens = zlows + (zhighs - zlows) / 2.\n",
    "zcens = zcens[:300]\n",
    "# zedges = np.concatenate((zlows[:300],  [zhighs[299],]))\n",
    "\n",
    "source_bins = [\n",
    "    main_file[\"catalog/sompz/pzdata/bin0\"][:],\n",
    "    main_file[\"catalog/sompz/pzdata/bin1\"][:],\n",
    "    main_file[\"catalog/sompz/pzdata/bin2\"][:],\n",
    "    main_file[\"catalog/sompz/pzdata/bin3\"][:],\n",
    "]\n",
    "\n",
    "# zclust_grid = np.linspace(0.05, 1., 101)\n",
    "zclust_grid_edges = np.linspace(0.00, 1.0, 101)\n",
    "zclust_grid = zclust_grid_edges[:-1] + np.diff(zclust_grid_edges) / 2."
   ]
  },
  {
   "cell_type": "code",
   "execution_count": 4,
   "metadata": {},
   "outputs": [
    {
     "name": "stdout",
     "output_type": "stream",
     "text": [
      "0\n"
     ]
    },
    {
     "name": "stderr",
     "output_type": "stream",
     "text": [
      "/home/moon/vargatn/anaconda3/envs/main3/lib/python3.8/site-packages/astropy/units/quantity.py:477: RuntimeWarning: divide by zero encountered in true_divide\n",
      "  result = super().__array_ufunc__(function, method, *arrays, **kwargs)\n"
     ]
    },
    {
     "name": "stdout",
     "output_type": "stream",
     "text": [
      "10\n",
      "20\n",
      "30\n",
      "40\n",
      "50\n",
      "60\n",
      "70\n",
      "80\n",
      "90\n"
     ]
    }
   ],
   "source": [
    "scritinv_tab = np.zeros(shape=(len(zclust_grid), len(zcens)))\n",
    "for i, zclust in enumerate(zclust_grid):\n",
    "    if i%10==0:\n",
    "        print(i)\n",
    "    for j, zsource in enumerate(zcens):\n",
    "        scritinv_tab[i,j] = sigma_crit_inv(zclust, zsource)"
   ]
  },
  {
   "cell_type": "code",
   "execution_count": 5,
   "metadata": {},
   "outputs": [],
   "source": [
    "def get_bin_scinv(clust_zvals, clust_zedges, scrit_tab, source_weight):\n",
    "    ccounts = np.histogram(clust_zvals, bins=clust_zedges)[0]\n",
    "    zcens = clust_zedges[:-1] + np.diff(clust_zedges) / 2.\n",
    "    \n",
    "    scvals = np.zeros(len(zcens))\n",
    "    for i, z in enumerate(zcens):\n",
    "#         print(i)\n",
    "        scvals[i] = np.average(scrit_tab[i], weights=source_weight)\n",
    "    \n",
    "    scritinv = np.average(scvals, weights=ccounts)\n",
    "    return scritinv\n",
    "#         scvals.append(_scvals)\n",
    "    \n",
    "    "
   ]
  },
  {
   "cell_type": "code",
   "execution_count": 11,
   "metadata": {},
   "outputs": [
    {
     "name": "stdout",
     "output_type": "stream",
     "text": [
      "processing source bin 1\n",
      "processing source bin 2\n",
      "processing source bin 3\n",
      "processing source bin 1\n",
      "processing source bin 2\n",
      "processing source bin 3\n",
      "processing source bin 1\n",
      "processing source bin 2\n",
      "processing source bin 3\n",
      "processing source bin 1\n",
      "processing source bin 2\n",
      "processing source bin 3\n"
     ]
    }
   ],
   "source": [
    "flist, flist_jk, rlist, rlist_jk = parbins.get_file_lists(paths.params, paths.dirpaths)\n",
    "# for i, clust_name in enumerate(flist_jk):\n",
    "i = 0\n",
    "profiles = []\n",
    "for clust_name in flist_jk:\n",
    "    _profiles = []\n",
    "    for sbin in (1, 2, 3):\n",
    "#         clust_name = flist_jk[i]\n",
    "        print(\"processing source bin\", sbin)\n",
    "        clust_infos = xwrap.create_infodict(clust_name)\n",
    "        clust_files = [info[\"outfile\"].replace(\"_result.dat\", \"_bin\" + str(sbin + 1) + \"_result.dat\") for info in clust_infos]\n",
    "        clust = shearops.process_profile(clust_files, ismeta=False, weights=weights, shear=True)\n",
    "        _profiles.append(clust)\n",
    "    profiles.append(_profiles)    "
   ]
  },
  {
   "cell_type": "code",
   "execution_count": 12,
   "metadata": {},
   "outputs": [],
   "source": [
    "# zcats = []\n",
    "scinvs = []\n",
    "for i in np.arange(4):\n",
    "#     for j in np.arange(3):\n",
    "#         print(i, j)\n",
    "    _tmp = np.loadtxt(\"/e/ocean1/users/vargatn/DES/DES_Y3A2_cluster/data/xshear_in/lwb-y3-lowz+cmass_v01/lwb-y3-lowz+cmass_v01_y1clust_qbin-\" + str(i) + \".dat\")\n",
    "    lenscat = pd.DataFrame(_tmp, columns=(\"id\", \"ra\", \"dec\", \"z\", \"dummy\"))\n",
    "#         infocat = pd.DataFrame(profiles[i][j].info, columns=(\"id\", \"dummy1\", \"dummy1\"))\n",
    "#         _zcat = pd.merge(infocat, lenscat, on=\"id\", how=\"left\")\n",
    "#         zcats.append(_zcat)\n",
    "    _scinvs = []\n",
    "    for sbin in source_bins:\n",
    "#         print(\"\")\n",
    "        _scinvs.append(get_bin_scinv(lenscat[\"z\"], zclust_grid_edges, scritinv_tab, sbin))\n",
    "    scinvs.append(_scinvs)"
   ]
  },
  {
   "cell_type": "code",
   "execution_count": 14,
   "metadata": {},
   "outputs": [],
   "source": [
    "def write_profile_shear(prof, path):\n",
    "    \"\"\"saves DeltaSigma and covariance in text format\"\"\"\n",
    "\n",
    "    # Saving profile\n",
    "    profheader = \"R [Mpc]\\tgamma_t \\tgamma_t_err \\tgamma_x \\tgamma_x_err\"\n",
    "    res = np.vstack((prof.rr, prof.dst, prof.dst_err, prof.dsx, prof.dsx_err)).T\n",
    "    fname = path + \"_profile.dat\"\n",
    "    print(\"saving:\", fname)\n",
    "    np.savetxt(fname, res, header=profheader)\n",
    "\n",
    "    # Saving covariance\n",
    "    np.savetxt(path + \"_gt_cov.dat\", prof.dst_cov)\n",
    "    np.savetxt(path + \"_gx_cov.dat\", prof.dsx_cov)"
   ]
  },
  {
   "cell_type": "code",
   "execution_count": 15,
   "metadata": {},
   "outputs": [
    {
     "name": "stdout",
     "output_type": "stream",
     "text": [
      "saving: LWB_lowz+cmass_noboost_raw_SHEAR-COLUMNS_zbin0_source-bin1_profile.dat\n",
      "saving: LWB_lowz+cmass_noboost_raw_SHEAR-COLUMNS_zbin0_source-bin2_profile.dat\n",
      "saving: LWB_lowz+cmass_noboost_raw_SHEAR-COLUMNS_zbin0_source-bin3_profile.dat\n",
      "saving: LWB_lowz+cmass_noboost_raw_SHEAR-COLUMNS_zbin1_source-bin1_profile.dat\n",
      "saving: LWB_lowz+cmass_noboost_raw_SHEAR-COLUMNS_zbin1_source-bin2_profile.dat\n",
      "saving: LWB_lowz+cmass_noboost_raw_SHEAR-COLUMNS_zbin1_source-bin3_profile.dat\n",
      "saving: LWB_lowz+cmass_noboost_raw_SHEAR-COLUMNS_zbin2_source-bin1_profile.dat\n",
      "saving: LWB_lowz+cmass_noboost_raw_SHEAR-COLUMNS_zbin2_source-bin2_profile.dat\n",
      "saving: LWB_lowz+cmass_noboost_raw_SHEAR-COLUMNS_zbin2_source-bin3_profile.dat\n",
      "saving: LWB_lowz+cmass_noboost_raw_SHEAR-COLUMNS_zbin3_source-bin1_profile.dat\n",
      "saving: LWB_lowz+cmass_noboost_raw_SHEAR-COLUMNS_zbin3_source-bin2_profile.dat\n",
      "saving: LWB_lowz+cmass_noboost_raw_SHEAR-COLUMNS_zbin3_source-bin3_profile.dat\n"
     ]
    }
   ],
   "source": [
    "tmp_profs = copy.deepcopy(profiles)\n",
    "fnames = []\n",
    "for i in np.arange(4):\n",
    "    for s in np.arange(3):\n",
    "#         scinv = scinvs[i][s+1]\n",
    "        prof = tmp_profs[i][s]\n",
    "#         prof.multiply(1 / scinv)\n",
    "        fname = \"LWB_lowz+cmass_noboost_raw_SHEAR-COLUMNS_zbin\"+str(i)+\"_source-bin\"+str(s+1)\n",
    "        fnames.append(fname)\n",
    "        write_profile_shear(prof, fname)"
   ]
  },
  {
   "cell_type": "code",
   "execution_count": null,
   "metadata": {},
   "outputs": [],
   "source": [
    "scinvs"
   ]
  },
  {
   "cell_type": "code",
   "execution_count": null,
   "metadata": {},
   "outputs": [],
   "source": []
  }
 ],
 "metadata": {
  "kernelspec": {
   "display_name": "Python 3",
   "language": "python",
   "name": "python3"
  },
  "language_info": {
   "codemirror_mode": {
    "name": "ipython",
    "version": 3
   },
   "file_extension": ".py",
   "mimetype": "text/x-python",
   "name": "python",
   "nbconvert_exporter": "python",
   "pygments_lexer": "ipython3",
   "version": "3.6.12"
  },
  "toc": {
   "base_numbering": 1,
   "nav_menu": {},
   "number_sections": true,
   "sideBar": true,
   "skip_h1_title": false,
   "title_cell": "Table of Contents",
   "title_sidebar": "Contents",
   "toc_cell": false,
   "toc_position": {},
   "toc_section_display": true,
   "toc_window_display": false
  },
  "widgets": {
   "state": {},
   "version": "1.0.0"
  }
 },
 "nbformat": 4,
 "nbformat_minor": 5
}
