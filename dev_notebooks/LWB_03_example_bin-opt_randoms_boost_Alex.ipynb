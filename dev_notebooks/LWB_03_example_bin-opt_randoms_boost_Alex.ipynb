{
 "cells": [
  {
   "cell_type": "code",
   "execution_count": 1,
   "id": "8cc98688",
   "metadata": {},
   "outputs": [
    {
     "name": "stdout",
     "output_type": "stream",
     "text": [
      "reading DEFAULTS from default_params.yml\n",
      "updating params from: /home/moon/vargatn/DES/PROJECTS/xpipe/settings/params.yml\n",
      "updating params from: /home/moon/vargatn/DES/PROJECTS/xpipe/settings/params_y3rm-stack_meta.yml\n",
      "updating params from: /home/moon/vargatn/DES/PROJECTS/xpipe/settings/params_y3lwb_meta.yml\n",
      "\n",
      "***********************\n",
      "\n",
      "running in full mode\n",
      "\n",
      "***********************\n",
      "\n"
     ]
    }
   ],
   "source": [
    "import pandas as pd\n",
    "import numpy as np\n",
    "import matplotlib.pyplot as plt\n",
    "\n",
    "import matplotlib as mpl\n",
    "%matplotlib inline\n",
    "%config InlineBackend.figure_format = 'svg'\n",
    "\n",
    "mpl.rc('font',**{'family':'serif','serif':['serif']})\n",
    "mpl.rc('text', usetex=True)\n",
    "import fitsio as fio\n",
    "\n",
    "import copy\n",
    "\n",
    "import xpipe.tools.catalogs as catalogs\n",
    "import xpipe.paths as paths\n",
    "import xpipe.xhandle.parbins as parbins\n",
    "import xpipe.xhandle.xwrap as xwrap\n",
    "import xpipe.tools.selector as selector\n",
    "import xpipe.xhandle.shearops as shearops\n",
    "import xpipe.xhandle.pzboost as pzboost\n",
    "import xpipe.tools.y3_sompz as sompz\n",
    "import xpipe.tools.mass as mass\n",
    "import xpipe.tools.visual as visual\n",
    "\n",
    "\n",
    "from importlib import reload\n",
    "import pickle\n",
    "\n",
    "\n",
    "import astropy.cosmology as cosmology\n",
    "# this is just the default cosmology\n",
    "cosmo = cosmology.FlatLambdaCDM(Om0=0.3, H0=70)\n",
    "\n",
    "# we make sure the correct config file is loaded here, it will let us automatically now what type of files \n",
    "# were / will be produced, and where they will be placed\n",
    "paths.update_params(\"/home/moon/vargatn/DES/PROJECTS/xpipe/settings/params_y3lwb_meta.yml\")"
   ]
  },
  {
   "cell_type": "markdown",
   "id": "3699c629",
   "metadata": {},
   "source": [
    "# Creating lens fits table\n",
    "\n",
    "xpipe takes a fits table as an input, with the columns specified in the config file"
   ]
  },
  {
   "cell_type": "code",
   "execution_count": 2,
   "id": "fb49b72d",
   "metadata": {},
   "outputs": [],
   "source": [
    "# first we load the CMASS data\n",
    "tmp = np.loadtxt(\"DESY3_CMASS.dat\")[:, (0, 1, 6, 7)]\n",
    "cmass = pd.DataFrame(data=tmp, columns=(\"RA\", \"DEC\", \"WSYS\", \"Z\"))\n",
    "cmass[\"ID\"] = np.arange(len(cmass), dtype=int) + 1e6\n",
    "oname = \"/e/ocean1/users/vargatn/DES/DES_Y3A2_cluster/data/lenscat/LWB_DESY3_CMASS.fits\"\n",
    "# fio.write(oname, cmass.to_records(), clobber=True)"
   ]
  },
  {
   "cell_type": "code",
   "execution_count": 3,
   "id": "6b226beb",
   "metadata": {},
   "outputs": [],
   "source": [
    "# # then the LOWZ data\n",
    "tmp = np.loadtxt(\"DESY3_LOWZ.dat\")[:, (0, 1, 6, 7)]\n",
    "lowz = pd.DataFrame(data=tmp, columns=(\"RA\", \"DEC\", \"WSYS\", \"Z\"))\n",
    "lowz[\"ID\"] = np.arange(len(lowz), dtype=int)\n",
    "oname = \"/e/ocean1/users/vargatn/DES/DES_Y3A2_cluster/data/lenscat/LWB_DESY3_LOWZ.fits\"\n",
    "# fio.write(oname, lowz.to_records(), clobber=True)"
   ]
  },
  {
   "cell_type": "code",
   "execution_count": 4,
   "id": "358e1dbb",
   "metadata": {},
   "outputs": [],
   "source": [
    "# # and concatenate them, this is going to be useful to automating the lensing measurement\n",
    "# # file names and paths will be taken care of automatically\n",
    "allgal = pd.concat((lowz, cmass), ignore_index=True)\n",
    "oname = \"/e/ocean1/users/vargatn/DES/DES_Y3A2_cluster/data/lenscat/LWB_DESY3_ALL.fits\"\n",
    "fio.write(oname, allgal.to_records(), clobber=True)"
   ]
  },
  {
   "cell_type": "code",
   "execution_count": 5,
   "id": "d4912c00",
   "metadata": {},
   "outputs": [],
   "source": [
    "# now extract the len weights, these are not used yet we can pass them on the post-processing stage\n",
    "weights = pd.DataFrame()\n",
    "weights[\"ww\"] = allgal[\"WSYS\"]\n",
    "weights[\"ID\"] = allgal[\"ID\"]"
   ]
  },
  {
   "cell_type": "markdown",
   "id": "9533b225",
   "metadata": {},
   "source": [
    "# Running xpipe\n",
    "\n",
    "* `python mkbins.py --norands --params=params_y3lwb_meta.yml`  this prepares the Jackknife regions and writes the lenses to the proper input format from the fits, table\n",
    "\n",
    "* `python xshear_metacal.py --norands --params=params_y3lwb_meta.yml --runall` this runs the shear measurement 5 times for metacal, each JK region is processed separately, so for 1 profile up to ~500 different cores can be used simultaneously (assuming ~100 JK patches)"
   ]
  },
  {
   "cell_type": "markdown",
   "id": "9dabe6f3",
   "metadata": {},
   "source": [
    "# Postprocessing the lensing signal"
   ]
  },
  {
   "cell_type": "markdown",
   "id": "8fd85924",
   "metadata": {},
   "source": [
    "The Y3 xpipe setup measures shear, so we need to also access the DES Y3 photo-z cats"
   ]
  },
  {
   "cell_type": "code",
   "execution_count": 6,
   "id": "d6fd0bb3",
   "metadata": {},
   "outputs": [],
   "source": [
    "main_file_path = \"/e/ocean1/users/vargatn/DESY3/Y3_mastercat_03_31_20.h5\"\n",
    "src = sompz.sompz_reader(main_file_path)\n",
    "src.build_lookup()"
   ]
  },
  {
   "cell_type": "code",
   "execution_count": 7,
   "id": "aee58114",
   "metadata": {},
   "outputs": [],
   "source": [
    "# the output of xshear_metacal.py is in the following files.\n",
    "# flist is the lenses\n",
    "# rlist is the random points\n",
    "flist, flist_jk, rlist, rlist_jk = parbins.get_file_lists(paths.params, paths.dirpaths)"
   ]
  },
  {
   "cell_type": "code",
   "execution_count": 43,
   "id": "bcce319b",
   "metadata": {},
   "outputs": [
    {
     "name": "stdout",
     "output_type": "stream",
     "text": [
      "loading source bin 1\n",
      "loading source bin 2\n",
      "loading source bin 3\n",
      "/e/ocean1/users/vargatn/DES/DES_Y3A2_cluster/data/xshear_in/lwb-y3-lowz+cmass_v02/lwb-y3-lowz+cmass_v02_y1clust_qbin-0.fits\n",
      "loading source bin 2\n",
      "loading source bin 3\n",
      "/e/ocean1/users/vargatn/DES/DES_Y3A2_cluster/data/xshear_in/lwb-y3-lowz+cmass_v02/lwb-y3-lowz+cmass_v02_y1clust_qbin-1.fits\n",
      "loading source bin 2\n",
      "loading source bin 3\n",
      "/e/ocean1/users/vargatn/DES/DES_Y3A2_cluster/data/xshear_in/lwb-y3-lowz+cmass_v02/lwb-y3-lowz+cmass_v02_y1clust_qbin-2.fits\n",
      "loading source bin 3\n",
      "/e/ocean1/users/vargatn/DES/DES_Y3A2_cluster/data/xshear_in/lwb-y3-lowz+cmass_v02/lwb-y3-lowz+cmass_v02_y1clust_qbin-3.fits\n"
     ]
    }
   ],
   "source": [
    "ms_opt=[np.array([-0.02,-0.024,-0.037]),np.array([-0.024,-0.037]),np.array([-0.024,-0.037]),np.array([-0.037,])]\n",
    "optsbins=[(1,2,3),(2,3),(2,3),(3,)]\n",
    "\n",
    "ACPs = []\n",
    "ACP_ms = []\n",
    "ACP_optms = []\n",
    "for i, fname in enumerate(flist):\n",
    "    mfac_opt=1/(1+ms_opt[i])\n",
    "#     print(mfac, mfac_opt)\n",
    "    \n",
    "    ACP = shearops.AutoCalibrateProfile([fname,], flist_jk[i], src, xlims=(0.01, 30), sbins=optsbins[i])\n",
    "    ACP.get_profiles(ismeta=True, id_key=\"ID\", z_key=\"Z\", weights=weights, mfactor_sbins=mfac_opt) #\n",
    "    ACP_optms.append(ACP)"
   ]
  },
  {
   "cell_type": "code",
   "execution_count": 9,
   "id": "3aa7cb7a",
   "metadata": {},
   "outputs": [
    {
     "name": "stdout",
     "output_type": "stream",
     "text": [
      "loading source bin 1\n",
      "loading source bin 2\n",
      "loading source bin 3\n",
      "/e/ocean1/users/vargatn/DES/DES_Y3A2_cluster/data/xshear_in/lwb-y3-lowz+cmass_v02/lwb-y3-lowz+cmass_v02_y1rand_qbin-0.fits\n",
      "loading source bin 2\n",
      "loading source bin 3\n",
      "/e/ocean1/users/vargatn/DES/DES_Y3A2_cluster/data/xshear_in/lwb-y3-lowz+cmass_v02/lwb-y3-lowz+cmass_v02_y1rand_qbin-1.fits\n",
      "loading source bin 2\n",
      "loading source bin 3\n",
      "/e/ocean1/users/vargatn/DES/DES_Y3A2_cluster/data/xshear_in/lwb-y3-lowz+cmass_v02/lwb-y3-lowz+cmass_v02_y1rand_qbin-2.fits\n",
      "loading source bin 3\n",
      "/e/ocean1/users/vargatn/DES/DES_Y3A2_cluster/data/xshear_in/lwb-y3-lowz+cmass_v02/lwb-y3-lowz+cmass_v02_y1rand_qbin-3.fits\n"
     ]
    }
   ],
   "source": [
    "ACP_optm_rands = []\n",
    "for i, rname in enumerate(rlist):\n",
    "    mfac_opt=1/(1+ms_opt[i])\n",
    "    \n",
    "#     # This is a hotfix for the catalog matching bug... only need to be run once if you encounter obviously incorrect sigma crits with random points\n",
    "#     fname = \"/e/ocean1/users/vargatn/DES/DES_Y3A2_cluster/data/xshear_in/lwb-y3-lowz+cmass_v02/lwb-y3-lowz+cmass_v02_y1rand_qbin-\"+str(i)+\".fits\"\n",
    "#     tmp = fio.read(fname)\n",
    "#     tmp[\"ID\"] = tmp[\"index\"]\n",
    "#     fio.write(fname, tmp, clobber=True)    \n",
    "\n",
    "    # processing randoms\n",
    "    ACP = shearops.AutoCalibrateProfile([rname,], rlist_jk[i], src, xlims=(0.01, 30), sbins=optsbins[i])\n",
    "    ACP.get_profiles(ismeta=True, id_key=\"ID\", z_key=\"Z\", mfactor_sbins=mfac_opt) #\n",
    "    ACP_optm_rands.append(ACP)"
   ]
  },
  {
   "cell_type": "markdown",
   "id": "55130299",
   "metadata": {},
   "source": [
    "# Calculating boost factors from P(z) decomposition"
   ]
  },
  {
   "cell_type": "markdown",
   "id": "f684ccaa",
   "metadata": {},
   "source": [
    "xpipe automatically saves a fraction of source-lens pairs, and these are used to estimate the boost factors"
   ]
  },
  {
   "cell_type": "code",
   "execution_count": 10,
   "id": "fd4483a3",
   "metadata": {},
   "outputs": [],
   "source": [
    "# # !!! Uncomment this block and run once !!!\n",
    "# optsbins=[(1,2,3),(2,3),(2,3),(3,)]\n",
    "# # # For each redshift bin\n",
    "# for i in np.arange(4):\n",
    "#     # First we need to match the source id with the BPZ photot-z\n",
    "#     smb = pzboost.SOMBoost(src, [flist_jk[i],], sbins=optsbins[i])\n",
    "#     smb.get_pair_datas(pair_outpath=\"lwb-y3-lowz+cmass_v02_y1clust_optsbins_qbin-\"+str(i)+\"_pairs.h5\") \n",
    "#     #     # this could take a few minutes or so\n",
    "#     #     # It saves the matched version of the pairs to the specified file name    "
   ]
  },
  {
   "cell_type": "code",
   "execution_count": 44,
   "id": "6cf395bf",
   "metadata": {},
   "outputs": [
    {
     "name": "stdout",
     "output_type": "stream",
     "text": [
      "[[0], [1], [2], [3], [4], [5], [6], [7], [8], [9]]\n",
      "0 0\n",
      "0 1\n"
     ]
    },
    {
     "name": "stderr",
     "output_type": "stream",
     "text": [
      "/home/moon/vargatn/anaconda3/envs/main3/lib/python3.8/site-packages/scipy/optimize/_lsq/common.py:453: RuntimeWarning: underflow encountered in nextafter\n",
      "  x_new[lower_mask] = np.nextafter(lb[lower_mask], ub[lower_mask])\n",
      "/home/moon/vargatn/DES/PROJECTS/xpipe/xpipe/xhandle/pzboost.py:975: RuntimeWarning: underflow encountered in multiply\n",
      "  self.mixarr[i, :] = amps[i] * garr + (1. - amps[i]) * self.refpdf\n",
      "/home/moon/vargatn/anaconda3/envs/main3/lib/python3.8/site-packages/scipy/optimize/_lsq/trf.py:263: RuntimeWarning: underflow encountered in multiply\n",
      "  g_norm = norm(g * v, ord=np.inf)\n"
     ]
    },
    {
     "name": "stdout",
     "output_type": "stream",
     "text": [
      "0 2\n"
     ]
    },
    {
     "name": "stderr",
     "output_type": "stream",
     "text": [
      "/home/moon/vargatn/DES/PROJECTS/xpipe/xpipe/xhandle/shearops.py:989: RuntimeWarning: underflow encountered in multiply\n",
      "  tmps.append(_amp * self.scinvs[i])\n"
     ]
    },
    {
     "name": "stdout",
     "output_type": "stream",
     "text": [
      "(9,)\n",
      "1\n",
      "[[0], [1], [2], [3], [4], [5], [6], [7], [8], [9]]\n",
      "0 0\n",
      "0 1\n",
      "(9,)\n",
      "1\n",
      "[[0], [1], [2], [3], [4], [5], [6], [7], [8], [9]]\n",
      "0 0\n",
      "0 1\n",
      "(9,)\n",
      "1\n",
      "[[0], [1], [2], [3], [4], [5], [6], [7], [8], [9]]\n",
      "0 0\n",
      "(9,)\n",
      "1\n"
     ]
    }
   ],
   "source": [
    "# Then run this\n",
    "optsbins=[(1, 2, 3),(2, 3),(2, 3),(3,)]\n",
    "smbs = []\n",
    "ACPs_boosted = []\n",
    "for i in np.arange(4):\n",
    "    # Load the pairs files pre-processed above\n",
    "    smb = pzboost.SOMBoost(src, [flist_jk[i],], sbins=optsbins[i],\n",
    "                           pairs_to_load=\"lwb-y3-lowz+cmass_v02_y1clust_optsbins_qbin-\"+str(i)+\"_pairs.h5\")\n",
    "    smb.prep_boost(bins_to_use=np.arange(10)) # these are the indices of the radial bins to be used\n",
    "    smb.get_boost(npdf=9) # use the inner 9 radial bins (and the last as the reference PDF)\n",
    "    smbs.append(smb)\n",
    "    ACP = copy.copy(ACP_optms[i])\n",
    "    ACP.add_boost(smb)\n",
    "#     ACP.profile.multiply((ACP.fcl + 1)[:, np.newaxis])\n",
    "    ACPs_boosted.append(ACP)"
   ]
  },
  {
   "cell_type": "code",
   "execution_count": 12,
   "id": "5113fa91",
   "metadata": {},
   "outputs": [],
   "source": [
    "# calculate stack-wise subtraction\n",
    "profiles_subtracted = []\n",
    "for i in np.arange(4):\n",
    "    prof1 = copy.copy(ACPs_boosted[i].profile)\n",
    "#     prof1 = copy.copy(ACP_optms[i].profile)\n",
    "    prof2 = copy.copy(ACP_optm_rands[i].profile)\n",
    "#     prof = prof1.profile.composite\n",
    "    prof1.composite(prof2, operation=\"-\")\n",
    "    profiles_subtracted.append(prof1)"
   ]
  },
  {
   "cell_type": "code",
   "execution_count": 47,
   "id": "95f49571",
   "metadata": {},
   "outputs": [],
   "source": [
    "def write_profile(prof, path):\n",
    "    \"\"\"saves DeltaSigma and covariance in text format\"\"\"\n",
    "\n",
    "    # Saving profile\n",
    "    profheader = \"R [Mpc]\\tDeltaSigma_t [M_sun / pc^2]\\tDeltaSigma_t_err [M_sun / pc^2]\\tDeltaSigma_x [M_sun / pc^2]\\tDeltaSigma_x_err [M_sun / pc^2]\"\n",
    "    res = np.vstack((prof.rr, prof.dst, prof.dst_err, prof.dsx, prof.dsx_err)).T\n",
    "    fname = path + \"_profile.dat\"\n",
    "    print(\"saving:\", fname)\n",
    "    np.savetxt(fname, res, header=profheader)\n",
    "\n",
    "    # Saving covariance\n",
    "    np.savetxt(path + \"_dst_cov.dat\", prof.dst_cov)\n",
    "    np.savetxt(path + \"_dsx_cov.dat\", prof.dsx_cov)"
   ]
  },
  {
   "cell_type": "code",
   "execution_count": 48,
   "id": "295efd30",
   "metadata": {},
   "outputs": [
    {
     "name": "stdout",
     "output_type": "stream",
     "text": [
      "saving: LWB_lowz+cmass_boost_rand-subtr_zbin0_combined_profile.dat\n",
      "saving: LWB_lowz+cmass_boost_rand-subtr_zbin1_combined_profile.dat\n",
      "saving: LWB_lowz+cmass_boost_rand-subtr_zbin2_combined_profile.dat\n",
      "saving: LWB_lowz+cmass_boost_rand-subtr_zbin3_combined_profile.dat\n"
     ]
    }
   ],
   "source": [
    "# tmp_profs = copy.deepcopy(profiles)\n",
    "fnames = []\n",
    "for i in np.arange(4):\n",
    "#     for s in np.arange(3):\n",
    "#         scinv = scinvs[i][s+1]\n",
    "#         prof = tmp_profs[i][s]\n",
    "#         prof.multiply(1 / scinv)\n",
    "        fname = \"LWB_lowz+cmass_boost_rand-subtr_zbin\"+str(i)+\"_combined\"\n",
    "        fnames.append(fname)\n",
    "        prof = profiles_subtracted[i]\n",
    "        write_profile(prof, fname)"
   ]
  },
  {
   "cell_type": "code",
   "execution_count": null,
   "id": "ac29b8b0",
   "metadata": {},
   "outputs": [],
   "source": []
  }
 ],
 "metadata": {
  "kernelspec": {
   "display_name": "Python 3",
   "language": "python",
   "name": "python3"
  },
  "language_info": {
   "codemirror_mode": {
    "name": "ipython",
    "version": 3
   },
   "file_extension": ".py",
   "mimetype": "text/x-python",
   "name": "python",
   "nbconvert_exporter": "python",
   "pygments_lexer": "ipython3",
   "version": "3.8.8"
  },
  "toc": {
   "base_numbering": 1,
   "nav_menu": {},
   "number_sections": true,
   "sideBar": true,
   "skip_h1_title": false,
   "title_cell": "Table of Contents",
   "title_sidebar": "Contents",
   "toc_cell": false,
   "toc_position": {},
   "toc_section_display": true,
   "toc_window_display": false
  },
  "widgets": {
   "state": {},
   "version": "1.0.0"
  }
 },
 "nbformat": 4,
 "nbformat_minor": 5
}
